{
 "cells": [
  {
   "cell_type": "markdown",
   "metadata": {},
   "source": [
    "# 2. Getting Started"
   ]
  },
  {
   "cell_type": "code",
   "execution_count": 716,
   "metadata": {},
   "outputs": [
    {
     "data": {
      "image/png": "[encoded data removed]",
      "text/plain": [
       "<Figure size 432x288 with 1 Axes>"
      ]
     },
     "metadata": {
      "needs_background": "light"
     },
     "output_type": "display_data"
    }
   ],
   "source": [
    "import matplotlib.pyplot as plt\n",
    "%matplotlib inline\n",
    "import numpy as np\n",
    "\n",
    "# On some implementations of matplotlib, you may need to change this value\n",
    "IMAGE_SIZE = 72\n",
    "\n",
    "def generate_a_drawing(figsize, U, V, noise=0.0):\n",
    "    fig = plt.figure(figsize=(figsize,figsize))\n",
    "    ax = plt.subplot(111)\n",
    "    plt.axis('Off')\n",
    "    ax.set_xlim(0,figsize)\n",
    "    ax.set_ylim(0,figsize)\n",
    "    ax.fill(U, V, \"k\")\n",
    "    fig.canvas.draw()\n",
    "    imdata = np.frombuffer(fig.canvas.tostring_rgb(), dtype=np.uint8)[::3].astype(np.float32)\n",
    "    imdata = imdata + noise * np.random.random(imdata.size)\n",
    "    plt.close(fig)\n",
    "    return imdata\n",
    "\n",
    "def generate_a_rectangle(noise=0.0, free_location=False):\n",
    "    figsize = 1.0    \n",
    "    U = np.zeros(4)\n",
    "    V = np.zeros(4)\n",
    "    if free_location:\n",
    "        corners = np.random.random(4)\n",
    "        top = max(corners[0], corners[1])\n",
    "        bottom = min(corners[0], corners[1])\n",
    "        left = min(corners[2], corners[3])\n",
    "        right = max(corners[2], corners[3])\n",
    "    else:\n",
    "        side = (0.3 + 0.7 * np.random.random()) * figsize\n",
    "        top = figsize/2 + side/2\n",
    "        bottom = figsize/2 - side/2\n",
    "        left = bottom\n",
    "        right = top\n",
    "    U[0] = U[1] = top\n",
    "    U[2] = U[3] = bottom\n",
    "    V[0] = V[3] = left\n",
    "    V[1] = V[2] = right\n",
    "    return generate_a_drawing(figsize, U, V, noise)\n",
    "\n",
    "\n",
    "def generate_a_disk(noise=0.0, free_location=False):\n",
    "    figsize = 1.0\n",
    "    if free_location:\n",
    "        center = np.random.random(2)\n",
    "    else:\n",
    "        center = (figsize/2, figsize/2)\n",
    "    radius = (0.3 + 0.7 * np.random.random()) * figsize/2\n",
    "    N = 50\n",
    "    U = np.zeros(N)\n",
    "    V = np.zeros(N)\n",
    "    i = 0\n",
    "    for t in np.linspace(0, 2*np.pi, N):\n",
    "        U[i] = center[0] + np.cos(t) * radius\n",
    "        V[i] = center[1] + np.sin(t) * radius\n",
    "        i = i + 1\n",
    "    return generate_a_drawing(figsize, U, V, noise)\n",
    "\n",
    "def generate_a_triangle(noise=0.0, free_location=False):\n",
    "    figsize = 1.0\n",
    "    if free_location:\n",
    "        U = np.random.random(3)\n",
    "        V = np.random.random(3)\n",
    "    else:\n",
    "        size = (0.3 + 0.7 * np.random.random())*figsize/2\n",
    "        middle = figsize/2\n",
    "        U = (middle, middle+size, middle-size)\n",
    "        V = (middle+size, middle-size, middle-size)\n",
    "    imdata = generate_a_drawing(figsize, U, V, noise)\n",
    "    return [imdata, [U[0], V[0], U[1], V[1], U[2], V[2]]]\n",
    "\n",
    "\n",
    "im = generate_a_rectangle(10, True)\n",
    "plt.imshow(im.reshape(IMAGE_SIZE,IMAGE_SIZE), cmap='gray')\n",
    "\n",
    "im = generate_a_disk(10)\n",
    "plt.imshow(im.reshape(IMAGE_SIZE,IMAGE_SIZE), cmap='gray')\n",
    "\n",
    "\n",
    "[im, v] = generate_a_triangle(20, False)\n",
    "plt.imshow(im.reshape(IMAGE_SIZE,IMAGE_SIZE), cmap='gray')\n",
    "\n",
    "\n",
    "def generate_dataset_classification(nb_samples, noise=0.0, free_location=False):\n",
    "    # Getting im_size:\n",
    "    im_size = generate_a_rectangle().shape[0]\n",
    "    X = np.zeros([nb_samples,im_size])\n",
    "    Y = np.zeros(nb_samples)\n",
    "    print('Creating data:')\n",
    "    for i in range(nb_samples):\n",
    "        if i % 10 == 0:\n",
    "            print(i)\n",
    "        category = np.random.randint(3)\n",
    "        if category == 0:\n",
    "            X[i] = generate_a_rectangle(noise, free_location)\n",
    "        elif category == 1: \n",
    "            X[i] = generate_a_disk(noise, free_location)\n",
    "        else:\n",
    "            [X[i], V] = generate_a_triangle(noise, free_location)\n",
    "        Y[i] = category\n",
    "    X = (X + noise) / (255 + 2 * noise)\n",
    "    return [X, Y]\n",
    "\n",
    "def generate_test_set_classification():\n",
    "    np.random.seed(42)\n",
    "    [X_test, Y_test] = generate_dataset_classification(300, 20, True)\n",
    "    Y_test = np_utils.to_categorical(Y_test, 3) \n",
    "    return [X_test, Y_test]\n",
    "\n",
    "def generate_dataset_regression(nb_samples, noise=0.0):\n",
    "    # Getting im_size:\n",
    "    im_size = generate_a_triangle()[0].shape[0]\n",
    "    X = np.zeros([nb_samples,im_size])\n",
    "    Y = np.zeros([nb_samples, 6])\n",
    "    print('Creating data:')\n",
    "    for i in range(nb_samples):\n",
    "        #if i % 10 == 0:\n",
    "            #print(i)\n",
    "        [X[i], Y[i]] = generate_a_triangle(noise, True)\n",
    "    X = (X + noise) / (255 + 2 * noise)\n",
    "    return [X, Y]\n",
    "\n",
    "import matplotlib.patches as patches\n",
    "\n",
    "def visualize_prediction(x, y):\n",
    "    fig, ax = plt.subplots(figsize=(5, 5))\n",
    "    I = x.reshape((IMAGE_SIZE,IMAGE_SIZE))\n",
    "    ax.imshow(I, extent=[-0.15,1.15,-0.15,1.15],cmap='gray')\n",
    "    ax.set_xlim([0,1])\n",
    "    ax.set_ylim([0,1])\n",
    "\n",
    "    xy = y.reshape(3,2)\n",
    "    tri = patches.Polygon(xy, closed=True, fill = False, edgecolor = 'r', linewidth = 5, alpha = 0.5)\n",
    "    ax.add_patch(tri)\n",
    "\n",
    "    plt.show()\n",
    "\n",
    "def generate_test_set_regression():\n",
    "    np.random.seed(42)\n",
    "    [X_test, Y_test] = generate_dataset_regression(300, 20)\n",
    "    return [X_test, Y_test]\n",
    "\n"
   ]
  },
  {
   "cell_type": "markdown",
   "metadata": {},
   "source": [
    "# 3. Simple Classification"
   ]
  },
  {
   "cell_type": "markdown",
   "metadata": {},
   "source": [
    "# 3.1. Generating Training Data"
   ]
  },
  {
   "cell_type": "code",
   "execution_count": 717,
   "metadata": {},
   "outputs": [
    {
     "name": "stdout",
     "output_type": "stream",
     "text": [
      "Creating data:\n",
      "0\n",
      "10\n",
      "20\n",
      "30\n",
      "40\n",
      "50\n",
      "60\n",
      "70\n",
      "80\n",
      "90\n",
      "100\n",
      "110\n",
      "120\n",
      "130\n",
      "140\n",
      "150\n",
      "160\n",
      "170\n",
      "180\n",
      "190\n",
      "200\n",
      "210\n",
      "220\n",
      "230\n",
      "240\n",
      "250\n",
      "260\n",
      "270\n",
      "280\n",
      "290\n"
     ]
    }
   ],
   "source": [
    "[X_train, Y_train] = generate_dataset_classification(300, 20)"
   ]
  },
  {
   "cell_type": "markdown",
   "metadata": {},
   "source": [
    "#    3.2. Reformating the Input"
   ]
  },
  {
   "cell_type": "code",
   "execution_count": 718,
   "metadata": {},
   "outputs": [
    {
     "name": "stdout",
     "output_type": "stream",
     "text": [
      "(300, 5184)\n"
     ]
    }
   ],
   "source": [
    "X_train = X_train.reshape(X_train.shape[0], 5184)\n",
    "print(X_train.shape)"
   ]
  },
  {
   "cell_type": "markdown",
   "metadata": {},
   "source": [
    "# 3.3. Reformating the Desired Ouput"
   ]
  },
  {
   "cell_type": "code",
   "execution_count": 719,
   "metadata": {},
   "outputs": [
    {
     "name": "stdout",
     "output_type": "stream",
     "text": [
      "(300, 3)\n"
     ]
    }
   ],
   "source": [
    "from keras.utils import np_utils\n",
    "Y_train = np_utils.to_categorical(Y_train, 3)\n",
    " \n",
    "print(Y_train.shape)"
   ]
  },
  {
   "cell_type": "markdown",
   "metadata": {},
   "source": [
    "# 3.4. Creating the Model\n"
   ]
  },
  {
   "cell_type": "code",
   "execution_count": 720,
   "metadata": {},
   "outputs": [
    {
     "name": "stdout",
     "output_type": "stream",
     "text": [
      "(None, 3)\n"
     ]
    }
   ],
   "source": [
    "from keras.layers import Dense, Activation\n",
    "from keras.models import Sequential\n",
    "from keras.layers import Conv2D, MaxPooling2D\n",
    "#Creating the Model\n",
    "model = Sequential()\n",
    "\n",
    "model.add(Dense(3, input_shape=(5184,)))\n",
    "model.add(Activation('sigmoid'))\n",
    "print(model.output_shape)\n"
   ]
  },
  {
   "cell_type": "markdown",
   "metadata": {},
   "source": [
    "# 3.5 Optimization "
   ]
  },
  {
   "cell_type": "markdown",
   "metadata": {},
   "source": [
    "# 3.5.1 Gradient Descent Optimizer"
   ]
  },
  {
   "cell_type": "code",
   "execution_count": 721,
   "metadata": {},
   "outputs": [
    {
     "name": "stdout",
     "output_type": "stream",
     "text": [
      "Train on 200 samples, validate on 100 samples\n",
      "Epoch 1/30\n",
      "200/200 [==============================] - 8s 38ms/step - loss: 0.2308 - val_loss: 0.2009\n",
      "Epoch 2/30\n",
      "200/200 [==============================] - 0s 450us/step - loss: 0.1704 - val_loss: 0.1708\n",
      "Epoch 3/30\n",
      "200/200 [==============================] - 0s 405us/step - loss: 0.1433 - val_loss: 0.1895\n",
      "Epoch 4/30\n",
      "200/200 [==============================] - 0s 405us/step - loss: 0.1331 - val_loss: 0.1257\n",
      "Epoch 5/30\n",
      "200/200 [==============================] - 0s 390us/step - loss: 0.1061 - val_loss: 0.1173\n",
      "Epoch 6/30\n",
      "200/200 [==============================] - 0s 380us/step - loss: 0.0925 - val_loss: 0.1096\n",
      "Epoch 7/30\n",
      "200/200 [==============================] - 0s 410us/step - loss: 0.0844 - val_loss: 0.0943\n",
      "Epoch 8/30\n",
      "200/200 [==============================] - 0s 405us/step - loss: 0.0755 - val_loss: 0.0865\n",
      "Epoch 9/30\n",
      "200/200 [==============================] - 0s 375us/step - loss: 0.0717 - val_loss: 0.0894\n",
      "Epoch 10/30\n",
      "200/200 [==============================] - 0s 340us/step - loss: 0.0689 - val_loss: 0.0819\n",
      "Epoch 11/30\n",
      "200/200 [==============================] - 0s 340us/step - loss: 0.0647 - val_loss: 0.0916\n",
      "Epoch 12/30\n",
      "200/200 [==============================] - 0s 380us/step - loss: 0.0636 - val_loss: 0.0753\n",
      "Epoch 13/30\n",
      "200/200 [==============================] - 0s 370us/step - loss: 0.0573 - val_loss: 0.0709\n",
      "Epoch 14/30\n",
      "200/200 [==============================] - 0s 360us/step - loss: 0.0562 - val_loss: 0.0712\n",
      "Epoch 15/30\n",
      "200/200 [==============================] - 0s 335us/step - loss: 0.0557 - val_loss: 0.0671\n",
      "Epoch 16/30\n",
      "200/200 [==============================] - 0s 300us/step - loss: 0.0509 - val_loss: 0.0800\n",
      "Epoch 17/30\n",
      "200/200 [==============================] - 0s 325us/step - loss: 0.0508 - val_loss: 0.0625\n",
      "Epoch 18/30\n",
      "200/200 [==============================] - 0s 315us/step - loss: 0.0471 - val_loss: 0.0608\n",
      "Epoch 19/30\n",
      "200/200 [==============================] - 0s 305us/step - loss: 0.0467 - val_loss: 0.0618\n",
      "Epoch 20/30\n",
      "200/200 [==============================] - 0s 335us/step - loss: 0.0469 - val_loss: 0.0567\n",
      "Epoch 21/30\n",
      "200/200 [==============================] - 0s 360us/step - loss: 0.0436 - val_loss: 0.0550\n",
      "Epoch 22/30\n",
      "200/200 [==============================] - 0s 365us/step - loss: 0.0419 - val_loss: 0.0545\n",
      "Epoch 23/30\n",
      "200/200 [==============================] - 0s 310us/step - loss: 0.0409 - val_loss: 0.0537\n",
      "Epoch 24/30\n",
      "200/200 [==============================] - 0s 330us/step - loss: 0.0396 - val_loss: 0.0660\n",
      "Epoch 25/30\n",
      "200/200 [==============================] - 0s 300us/step - loss: 0.0451 - val_loss: 0.0531\n",
      "Epoch 26/30\n",
      "200/200 [==============================] - 0s 350us/step - loss: 0.0373 - val_loss: 0.0559\n",
      "Epoch 27/30\n",
      "200/200 [==============================] - 0s 535us/step - loss: 0.0394 - val_loss: 0.0491\n",
      "Epoch 28/30\n",
      "200/200 [==============================] - 0s 285us/step - loss: 0.0348 - val_loss: 0.0468\n",
      "Epoch 29/30\n",
      "200/200 [==============================] - 0s 310us/step - loss: 0.0342 - val_loss: 0.0450\n",
      "Epoch 30/30\n",
      "200/200 [==============================] - 0s 295us/step - loss: 0.0337 - val_loss: 0.0500\n",
      "_________________________________________________________________\n",
      "Layer (type)                 Output Shape              Param #   \n",
      "=================================================================\n",
      "dense_121 (Dense)            (None, 3)                 15555     \n",
      "_________________________________________________________________\n",
      "activation_129 (Activation)  (None, 3)                 0         \n",
      "=================================================================\n",
      "Total params: 15,555\n",
      "Trainable params: 15,555\n",
      "Non-trainable params: 0\n",
      "_________________________________________________________________\n",
      "None\n"
     ]
    }
   ],
   "source": [
    "from keras.optimizers import SGD\n",
    "sgd = SGD(lr=0.005,decay=1e-6, momentum=0.9,nesterov=True)\n",
    "model.compile(loss='mean_squared_error',optimizer=sgd) \n",
    "\n",
    "history=model.fit(X_train, Y_train, validation_split=0.33, epochs=30, batch_size=32, verbose=1) \n",
    "print(model.summary())\n"
   ]
  },
  {
   "cell_type": "markdown",
   "metadata": {},
   "source": [
    "# 3.5.1.1. Visualize Model Training History"
   ]
  },
  {
   "cell_type": "code",
   "execution_count": 722,
   "metadata": {},
   "outputs": [
    {
     "name": "stdout",
     "output_type": "stream",
     "text": [
      "dict_keys(['val_loss', 'loss'])\n"
     ]
    },
    {
     "data": {
      "image/png": "[encoded data removed]",
      "text/plain": [
       "<Figure size 432x288 with 1 Axes>"
      ]
     },
     "metadata": {
      "needs_background": "light"
     },
     "output_type": "display_data"
    }
   ],
   "source": [
    "print(history.history.keys())\n",
    "\n",
    "# summarize history for loss\n",
    "plt.plot(history.history['loss'])\n",
    "plt.plot(history.history['val_loss'])\n",
    "plt.title('model loss')\n",
    "plt.ylabel('loss')\n",
    "plt.xlabel('epoch')\n",
    "plt.legend(['train', 'test'], loc='upper left')\n",
    "plt.show()"
   ]
  },
  {
   "cell_type": "markdown",
   "metadata": {},
   "source": [
    "- From the plot of loss, we can see that the model has comparable performance on both train and validation datasets (labeled test). "
   ]
  },
  {
   "cell_type": "markdown",
   "metadata": {},
   "source": [
    "\n",
    "# 3.5.1.2. Testing\n"
   ]
  },
  {
   "cell_type": "code",
   "execution_count": 723,
   "metadata": {},
   "outputs": [
    {
     "name": "stdout",
     "output_type": "stream",
     "text": [
      "[[0. 1. 0.]]\n"
     ]
    },
    {
     "data": {
      "text/plain": [
       "<matplotlib.image.AxesImage at 0x52218b38>"
      ]
     },
     "execution_count": 723,
     "metadata": {},
     "output_type": "execute_result"
    },
    {
     "data": {
      "image/png": "[encoded data removed]",
      "text/plain": [
       "<Figure size 432x288 with 1 Axes>"
      ]
     },
     "metadata": {
      "needs_background": "light"
     },
     "output_type": "display_data"
    }
   ],
   "source": [
    "X_test = generate_a_disk()\n",
    "X_test = X_test.reshape(1,X_test.shape[0])\n",
    "Y_pred = model.predict(X_test)\n",
    "print(Y_pred)\n",
    "plt.imshow(X_test.reshape(72,72), cmap='gray')\n"
   ]
  },
  {
   "cell_type": "code",
   "execution_count": 724,
   "metadata": {
    "scrolled": true
   },
   "outputs": [
    {
     "name": "stdout",
     "output_type": "stream",
     "text": [
      "[[1. 0. 0.]]\n"
     ]
    },
    {
     "data": {
      "image/png": "[encoded data removed]",
      "text/plain": [
       "<Figure size 432x288 with 1 Axes>"
      ]
     },
     "metadata": {
      "needs_background": "light"
     },
     "output_type": "display_data"
    }
   ],
   "source": [
    "X_test = generate_a_rectangle()\n",
    "X_test = X_test.reshape(1, X_test.shape[0])\n",
    "Y_pred = model.predict(X_test)\n",
    "plt.imshow(X_test.reshape(72,72), cmap='gray')\n",
    "print(Y_pred)"
   ]
  },
  {
   "cell_type": "raw",
   "metadata": {},
   "source": [
    "=> The Gradient descent optimizer seems to converge correctly"
   ]
  },
  {
   "cell_type": "markdown",
   "metadata": {},
   "source": [
    "# 3.5.2. Adam Optimizer"
   ]
  },
  {
   "cell_type": "code",
   "execution_count": 725,
   "metadata": {},
   "outputs": [
    {
     "name": "stdout",
     "output_type": "stream",
     "text": [
      "(None, 3)\n",
      "Train on 210 samples, validate on 90 samples\n",
      "Epoch 1/30\n",
      "210/210 [==============================] - 7s 34ms/step - loss: 0.7037 - acc: 0.6175 - val_loss: 0.6383 - val_acc: 0.6259\n",
      "Epoch 2/30\n",
      "210/210 [==============================] - 0s 710us/step - loss: 0.5631 - acc: 0.7000 - val_loss: 0.5303 - val_acc: 0.6926\n",
      "Epoch 3/30\n",
      "210/210 [==============================] - 0s 486us/step - loss: 0.4991 - acc: 0.7476 - val_loss: 0.4810 - val_acc: 0.7519\n",
      "Epoch 4/30\n",
      "210/210 [==============================] - 0s 624us/step - loss: 0.4248 - acc: 0.8270 - val_loss: 0.4064 - val_acc: 0.8519\n",
      "Epoch 5/30\n",
      "210/210 [==============================] - 0s 600us/step - loss: 0.3835 - acc: 0.8667 - val_loss: 0.3949 - val_acc: 0.8222\n",
      "Epoch 6/30\n",
      "210/210 [==============================] - 0s 619us/step - loss: 0.3474 - acc: 0.8762 - val_loss: 0.3545 - val_acc: 0.8667\n",
      "Epoch 7/30\n",
      "210/210 [==============================] - 0s 624us/step - loss: 0.3220 - acc: 0.8857 - val_loss: 0.3298 - val_acc: 0.8852\n",
      "Epoch 8/30\n",
      "210/210 [==============================] - 0s 691us/step - loss: 0.3085 - acc: 0.9079 - val_loss: 0.3240 - val_acc: 0.8741\n",
      "Epoch 9/30\n",
      "210/210 [==============================] - 0s 591us/step - loss: 0.2807 - acc: 0.9111 - val_loss: 0.2953 - val_acc: 0.9000\n",
      "Epoch 10/30\n",
      "210/210 [==============================] - 0s 852us/step - loss: 0.2699 - acc: 0.9111 - val_loss: 0.2817 - val_acc: 0.8926\n",
      "Epoch 11/30\n",
      "210/210 [==============================] - 0s 571us/step - loss: 0.2571 - acc: 0.9270 - val_loss: 0.2846 - val_acc: 0.8778\n",
      "Epoch 12/30\n",
      "210/210 [==============================] - 0s 533us/step - loss: 0.2440 - acc: 0.9206 - val_loss: 0.2555 - val_acc: 0.9259\n",
      "Epoch 13/30\n",
      "210/210 [==============================] - 0s 557us/step - loss: 0.2332 - acc: 0.9238 - val_loss: 0.2457 - val_acc: 0.9370\n",
      "Epoch 14/30\n",
      "210/210 [==============================] - 0s 452us/step - loss: 0.2201 - acc: 0.9444 - val_loss: 0.2536 - val_acc: 0.8778\n",
      "Epoch 15/30\n",
      "210/210 [==============================] - 0s 610us/step - loss: 0.2137 - acc: 0.9190 - val_loss: 0.2396 - val_acc: 0.9444\n",
      "Epoch 16/30\n",
      "210/210 [==============================] - 0s 524us/step - loss: 0.2189 - acc: 0.9429 - val_loss: 0.2327 - val_acc: 0.8889\n",
      "Epoch 17/30\n",
      "210/210 [==============================] - 0s 390us/step - loss: 0.1937 - acc: 0.9524 - val_loss: 0.2133 - val_acc: 0.9444\n",
      "Epoch 18/30\n",
      "210/210 [==============================] - 0s 395us/step - loss: 0.1850 - acc: 0.9619 - val_loss: 0.2119 - val_acc: 0.9185\n",
      "Epoch 19/30\n",
      "210/210 [==============================] - 0s 362us/step - loss: 0.1780 - acc: 0.9587 - val_loss: 0.1998 - val_acc: 0.9444\n",
      "Epoch 20/30\n",
      "210/210 [==============================] - 0s 367us/step - loss: 0.1802 - acc: 0.9460 - val_loss: 0.1939 - val_acc: 0.9667\n",
      "Epoch 21/30\n",
      "210/210 [==============================] - 0s 343us/step - loss: 0.1674 - acc: 0.9651 - val_loss: 0.1942 - val_acc: 0.9222\n",
      "Epoch 22/30\n",
      "210/210 [==============================] - 0s 362us/step - loss: 0.1614 - acc: 0.9619 - val_loss: 0.1833 - val_acc: 0.9407\n",
      "Epoch 23/30\n",
      "210/210 [==============================] - 0s 362us/step - loss: 0.1598 - acc: 0.9762 - val_loss: 0.1973 - val_acc: 0.9074\n",
      "Epoch 24/30\n",
      "210/210 [==============================] - 0s 319us/step - loss: 0.1521 - acc: 0.9651 - val_loss: 0.1731 - val_acc: 0.9667\n",
      "Epoch 25/30\n",
      "210/210 [==============================] - 0s 352us/step - loss: 0.1484 - acc: 0.9810 - val_loss: 0.1715 - val_acc: 0.9407\n",
      "Epoch 26/30\n",
      "210/210 [==============================] - 0s 343us/step - loss: 0.1414 - acc: 0.9746 - val_loss: 0.1664 - val_acc: 0.9444\n",
      "Epoch 27/30\n",
      "210/210 [==============================] - 0s 390us/step - loss: 0.1404 - acc: 0.9873 - val_loss: 0.1732 - val_acc: 0.9296\n",
      "Epoch 28/30\n",
      "210/210 [==============================] - 0s 324us/step - loss: 0.1419 - acc: 0.9619 - val_loss: 0.1566 - val_acc: 0.9778\n",
      "Epoch 29/30\n",
      "210/210 [==============================] - 0s 305us/step - loss: 0.1302 - acc: 0.9905 - val_loss: 0.1606 - val_acc: 0.9333\n",
      "Epoch 30/30\n",
      "210/210 [==============================] - 0s 338us/step - loss: 0.1266 - acc: 0.9730 - val_loss: 0.1496 - val_acc: 0.9815\n",
      "_________________________________________________________________\n",
      "Layer (type)                 Output Shape              Param #   \n",
      "=================================================================\n",
      "dense_122 (Dense)            (None, 3)                 15555     \n",
      "_________________________________________________________________\n",
      "activation_130 (Activation)  (None, 3)                 0         \n",
      "=================================================================\n",
      "Total params: 15,555\n",
      "Trainable params: 15,555\n",
      "Non-trainable params: 0\n",
      "_________________________________________________________________\n",
      "None\n"
     ]
    }
   ],
   "source": [
    "from keras.optimizers import Adam\n",
    "#Creating the Model\n",
    "model = Sequential()\n",
    "model.add(Dense(3, input_shape=(5184,)))\n",
    "model.add(Activation('sigmoid'))\n",
    "print(model.output_shape)\n",
    "\n",
    "adam=Adam(lr=0.0005)\n",
    "model.compile(loss='binary_crossentropy', optimizer=adam, metrics=['accuracy'])\n",
    "#Running the Optimization\n",
    "history1=model.fit(X_train, Y_train,batch_size=32 ,validation_split=0.3, epochs=30, verbose=1) \n",
    "print(model.summary())\n"
   ]
  },
  {
   "cell_type": "markdown",
   "metadata": {},
   "source": [
    "# 3.5.2.1. Visualize Model Training History"
   ]
  },
  {
   "cell_type": "code",
   "execution_count": 726,
   "metadata": {},
   "outputs": [
    {
     "name": "stdout",
     "output_type": "stream",
     "text": [
      "dict_keys(['val_loss', 'val_acc', 'loss', 'acc'])\n"
     ]
    },
    {
     "data": {
      "image/png": "[encoded data removed]",
      "text/plain": [
       "<Figure size 432x288 with 1 Axes>"
      ]
     },
     "metadata": {
      "needs_background": "light"
     },
     "output_type": "display_data"
    }
   ],
   "source": [
    "print(history1.history.keys())\n",
    "\n",
    "# summarize history for loss\n",
    "plt.plot(history1.history['loss'])\n",
    "plt.plot(history1.history['val_loss'])\n",
    "plt.title('model loss')\n",
    "plt.ylabel('loss')\n",
    "plt.xlabel('epoch')\n",
    "plt.legend(['train', 'test'], loc='upper left')\n",
    "plt.show()"
   ]
  },
  {
   "cell_type": "raw",
   "metadata": {},
   "source": [
    "=> we  can stop training at an earlier epoch (<30)"
   ]
  },
  {
   "cell_type": "markdown",
   "metadata": {},
   "source": [
    "# 3.5.2.2. Testing"
   ]
  },
  {
   "cell_type": "code",
   "execution_count": 727,
   "metadata": {},
   "outputs": [
    {
     "name": "stdout",
     "output_type": "stream",
     "text": [
      "[[0. 1. 0.]]\n"
     ]
    },
    {
     "data": {
      "text/plain": [
       "<matplotlib.image.AxesImage at 0x1a2389e8>"
      ]
     },
     "execution_count": 727,
     "metadata": {},
     "output_type": "execute_result"
    },
    {
     "data": {
      "image/png": "[encoded data removed]",
      "text/plain": [
       "<Figure size 432x288 with 1 Axes>"
      ]
     },
     "metadata": {
      "needs_background": "light"
     },
     "output_type": "display_data"
    }
   ],
   "source": [
    "X_test = generate_a_disk()\n",
    "X_test = X_test.reshape(1,X_test.shape[0])\n",
    "Y_pred = model.predict(X_test)\n",
    "print(Y_pred)\n",
    "plt.imshow(X_test.reshape(72,72), cmap='gray')"
   ]
  },
  {
   "cell_type": "code",
   "execution_count": 728,
   "metadata": {},
   "outputs": [
    {
     "name": "stdout",
     "output_type": "stream",
     "text": [
      "[[1. 0. 0.]]\n"
     ]
    },
    {
     "data": {
      "image/png": "[encoded data removed]",
      "text/plain": [
       "<Figure size 432x288 with 1 Axes>"
      ]
     },
     "metadata": {
      "needs_background": "light"
     },
     "output_type": "display_data"
    }
   ],
   "source": [
    "X_test = generate_a_rectangle()\n",
    "X_test = X_test.reshape(1, X_test.shape[0])\n",
    "Y_pred = model.predict(X_test)\n",
    "plt.imshow(X_test.reshape(72,72), cmap='gray')\n",
    "print(Y_pred)\n"
   ]
  },
  {
   "cell_type": "markdown",
   "metadata": {},
   "source": [
    "=> The Adam optimizer seems to converge correctly"
   ]
  },
  {
   "cell_type": "markdown",
   "metadata": {},
   "source": [
    "# 4. Visualization of the Solution\n"
   ]
  },
  {
   "cell_type": "markdown",
   "metadata": {},
   "source": [
    "- We would like to visualize the weights of the linear classifier"
   ]
  },
  {
   "cell_type": "code",
   "execution_count": 729,
   "metadata": {},
   "outputs": [],
   "source": [
    "weights=model.get_weights()"
   ]
  },
  {
   "cell_type": "code",
   "execution_count": 730,
   "metadata": {},
   "outputs": [
    {
     "data": {
      "image/png": "[encoded data removed]",
      "text/plain": [
       "<Figure size 432x288 with 3 Axes>"
      ]
     },
     "metadata": {
      "needs_background": "light"
     },
     "output_type": "display_data"
    }
   ],
   "source": [
    "f, (w1, w2,w3) = plt.subplots(1, 3, sharey=True)\n",
    "w1.imshow(weights[0][:,0].reshape(72,72), cmap='gray')\n",
    "w2.imshow(weights[0][:,1].reshape(72,72), cmap='gray')\n",
    "w3.imshow(weights[0][:,2].reshape(72,72), cmap='gray')\n",
    "\n",
    "plt.show()"
   ]
  },
  {
   "cell_type": "markdown",
   "metadata": {},
   "source": [
    "- We visualize the learned weights feeding into the  output neurons. We color-code to see the different weights.Each figuer looks like somewhat blurry versions of a geometrical form. We can see in the first one the shape of a rectangle,then the shape of a disk in the second one and finally the shape of a triangle in the last one.\n"
   ]
  },
  {
   "cell_type": "markdown",
   "metadata": {},
   "source": [
    "# 5. A More Difficult Classifiction Problem"
   ]
  },
  {
   "cell_type": "markdown",
   "metadata": {},
   "source": [
    "# 5.1. Generating Training Data"
   ]
  },
  {
   "cell_type": "code",
   "execution_count": 731,
   "metadata": {},
   "outputs": [
    {
     "name": "stdout",
     "output_type": "stream",
     "text": [
      "Creating data:\n",
      "0\n",
      "10\n",
      "20\n",
      "30\n",
      "40\n",
      "50\n",
      "60\n",
      "70\n",
      "80\n",
      "90\n",
      "100\n",
      "110\n",
      "120\n",
      "130\n",
      "140\n",
      "150\n",
      "160\n",
      "170\n",
      "180\n",
      "190\n",
      "200\n",
      "210\n",
      "220\n",
      "230\n",
      "240\n",
      "250\n",
      "260\n",
      "270\n",
      "280\n",
      "290\n"
     ]
    }
   ],
   "source": [
    "[X_train0, Y_train0] = generate_dataset_classification(300, 20, True)\n",
    "from keras.utils import np_utils\n",
    "Y_train0 = np_utils.to_categorical(Y_train0, 3)\n",
    "X_train2=X_train0\n",
    "Y_train2=Y_train0\n"
   ]
  },
  {
   "cell_type": "markdown",
   "metadata": {},
   "source": [
    "# 5.2. Linear Classifier"
   ]
  },
  {
   "cell_type": "code",
   "execution_count": 732,
   "metadata": {
    "scrolled": true
   },
   "outputs": [
    {
     "name": "stdout",
     "output_type": "stream",
     "text": [
      "(None, 3)\n",
      "Epoch 1/200\n",
      "300/300 [==============================] - 6s 21ms/step - loss: 0.2681 - acc: 0.3600\n",
      "Epoch 2/200\n",
      "300/300 [==============================] - 0s 550us/step - loss: 0.2344 - acc: 0.4633\n",
      "Epoch 3/200\n",
      "300/300 [==============================] - 0s 650us/step - loss: 0.2086 - acc: 0.4800\n",
      "Epoch 4/200\n",
      "300/300 [==============================] - 0s 643us/step - loss: 0.1889 - acc: 0.5433\n",
      "Epoch 5/200\n",
      "300/300 [==============================] - 0s 620us/step - loss: 0.1764 - acc: 0.5567\n",
      "Epoch 6/200\n",
      "300/300 [==============================] - 0s 673us/step - loss: 0.1765 - acc: 0.5667\n",
      "Epoch 7/200\n",
      "300/300 [==============================] - 0s 607us/step - loss: 0.1685 - acc: 0.6000\n",
      "Epoch 8/200\n",
      "300/300 [==============================] - 0s 530us/step - loss: 0.1751 - acc: 0.5900\n",
      "Epoch 9/200\n",
      "300/300 [==============================] - 0s 530us/step - loss: 0.1562 - acc: 0.6433\n",
      "Epoch 10/200\n",
      "300/300 [==============================] - 0s 500us/step - loss: 0.1669 - acc: 0.6233\n",
      "Epoch 11/200\n",
      "300/300 [==============================] - 0s 457us/step - loss: 0.1637 - acc: 0.6100\n",
      "Epoch 12/200\n",
      "300/300 [==============================] - 0s 343us/step - loss: 0.1620 - acc: 0.6067\n",
      "Epoch 13/200\n",
      "300/300 [==============================] - 0s 367us/step - loss: 0.1554 - acc: 0.6267\n",
      "Epoch 14/200\n",
      "300/300 [==============================] - 0s 340us/step - loss: 0.1548 - acc: 0.6367\n",
      "Epoch 15/200\n",
      "300/300 [==============================] - 0s 347us/step - loss: 0.1579 - acc: 0.6367\n",
      "Epoch 16/200\n",
      "300/300 [==============================] - 0s 320us/step - loss: 0.1545 - acc: 0.6733\n",
      "Epoch 17/200\n",
      "300/300 [==============================] - 0s 357us/step - loss: 0.1546 - acc: 0.6733\n",
      "Epoch 18/200\n",
      "300/300 [==============================] - 0s 353us/step - loss: 0.1464 - acc: 0.6567\n",
      "Epoch 19/200\n",
      "300/300 [==============================] - 0s 327us/step - loss: 0.1642 - acc: 0.6133\n",
      "Epoch 20/200\n",
      "300/300 [==============================] - 0s 343us/step - loss: 0.1467 - acc: 0.6600\n",
      "Epoch 21/200\n",
      "300/300 [==============================] - 0s 360us/step - loss: 0.1382 - acc: 0.6767\n",
      "Epoch 22/200\n",
      "300/300 [==============================] - 0s 430us/step - loss: 0.1480 - acc: 0.6367\n",
      "Epoch 23/200\n",
      "300/300 [==============================] - 0s 307us/step - loss: 0.1398 - acc: 0.6833\n",
      "Epoch 24/200\n",
      "300/300 [==============================] - 0s 297us/step - loss: 0.1388 - acc: 0.6633\n",
      "Epoch 25/200\n",
      "300/300 [==============================] - 0s 300us/step - loss: 0.1420 - acc: 0.6733\n",
      "Epoch 26/200\n",
      "300/300 [==============================] - 0s 307us/step - loss: 0.1376 - acc: 0.7033\n",
      "Epoch 27/200\n",
      "300/300 [==============================] - 0s 647us/step - loss: 0.1396 - acc: 0.7133\n",
      "Epoch 28/200\n",
      "300/300 [==============================] - 0s 357us/step - loss: 0.1307 - acc: 0.7333\n",
      "Epoch 29/200\n",
      "300/300 [==============================] - 0s 377us/step - loss: 0.1302 - acc: 0.7033\n",
      "Epoch 30/200\n",
      "300/300 [==============================] - 0s 407us/step - loss: 0.1275 - acc: 0.7167\n",
      "Epoch 31/200\n",
      "300/300 [==============================] - 0s 357us/step - loss: 0.1300 - acc: 0.7233\n",
      "Epoch 32/200\n",
      "300/300 [==============================] - 0s 407us/step - loss: 0.1376 - acc: 0.7300\n",
      "Epoch 33/200\n",
      "300/300 [==============================] - 0s 280us/step - loss: 0.1265 - acc: 0.7233\n",
      "Epoch 34/200\n",
      "300/300 [==============================] - 0s 270us/step - loss: 0.1289 - acc: 0.7267\n",
      "Epoch 35/200\n",
      "300/300 [==============================] - 0s 240us/step - loss: 0.1326 - acc: 0.7067\n",
      "Epoch 36/200\n",
      "300/300 [==============================] - 0s 253us/step - loss: 0.1222 - acc: 0.7567\n",
      "Epoch 37/200\n",
      "300/300 [==============================] - 0s 243us/step - loss: 0.1232 - acc: 0.7500\n",
      "Epoch 38/200\n",
      "300/300 [==============================] - 0s 243us/step - loss: 0.1248 - acc: 0.7233\n",
      "Epoch 39/200\n",
      "300/300 [==============================] - 0s 257us/step - loss: 0.1225 - acc: 0.7433\n",
      "Epoch 40/200\n",
      "300/300 [==============================] - 0s 250us/step - loss: 0.1206 - acc: 0.7467\n",
      "Epoch 41/200\n",
      "300/300 [==============================] - 0s 300us/step - loss: 0.1204 - acc: 0.7567\n",
      "Epoch 42/200\n",
      "300/300 [==============================] - 0s 270us/step - loss: 0.1169 - acc: 0.7733\n",
      "Epoch 43/200\n",
      "300/300 [==============================] - 0s 237us/step - loss: 0.1177 - acc: 0.7833\n",
      "Epoch 44/200\n",
      "300/300 [==============================] - 0s 270us/step - loss: 0.1097 - acc: 0.7733\n",
      "Epoch 45/200\n",
      "300/300 [==============================] - 0s 280us/step - loss: 0.1079 - acc: 0.8133\n",
      "Epoch 46/200\n",
      "300/300 [==============================] - 0s 273us/step - loss: 0.1218 - acc: 0.7367\n",
      "Epoch 47/200\n",
      "300/300 [==============================] - 0s 260us/step - loss: 0.1078 - acc: 0.7800\n",
      "Epoch 48/200\n",
      "300/300 [==============================] - 0s 267us/step - loss: 0.1146 - acc: 0.7500\n",
      "Epoch 49/200\n",
      "300/300 [==============================] - 0s 250us/step - loss: 0.1087 - acc: 0.7733\n",
      "Epoch 50/200\n",
      "300/300 [==============================] - 0s 213us/step - loss: 0.1051 - acc: 0.8067\n",
      "Epoch 51/200\n",
      "300/300 [==============================] - 0s 257us/step - loss: 0.1129 - acc: 0.7600\n",
      "Epoch 52/200\n",
      "300/300 [==============================] - 0s 253us/step - loss: 0.1105 - acc: 0.7633\n",
      "Epoch 53/200\n",
      "300/300 [==============================] - 0s 247us/step - loss: 0.1089 - acc: 0.7933\n",
      "Epoch 54/200\n",
      "300/300 [==============================] - 0s 293us/step - loss: 0.1077 - acc: 0.7800\n",
      "Epoch 55/200\n",
      "300/300 [==============================] - 0s 243us/step - loss: 0.1173 - acc: 0.7433\n",
      "Epoch 56/200\n",
      "300/300 [==============================] - 0s 253us/step - loss: 0.1016 - acc: 0.8033\n",
      "Epoch 57/200\n",
      "300/300 [==============================] - 0s 260us/step - loss: 0.1119 - acc: 0.7567\n",
      "Epoch 58/200\n",
      "300/300 [==============================] - 0s 270us/step - loss: 0.0978 - acc: 0.8433\n",
      "Epoch 59/200\n",
      "300/300 [==============================] - 0s 297us/step - loss: 0.1030 - acc: 0.8267\n",
      "Epoch 60/200\n",
      "300/300 [==============================] - 0s 243us/step - loss: 0.0975 - acc: 0.8233\n",
      "Epoch 61/200\n",
      "300/300 [==============================] - 0s 223us/step - loss: 0.0955 - acc: 0.8333\n",
      "Epoch 62/200\n",
      "300/300 [==============================] - 0s 270us/step - loss: 0.1020 - acc: 0.8000\n",
      "Epoch 63/200\n",
      "300/300 [==============================] - 0s 267us/step - loss: 0.0956 - acc: 0.8600\n",
      "Epoch 64/200\n",
      "300/300 [==============================] - 0s 267us/step - loss: 0.0942 - acc: 0.8567\n",
      "Epoch 65/200\n",
      "300/300 [==============================] - 0s 280us/step - loss: 0.0971 - acc: 0.8267\n",
      "Epoch 66/200\n",
      "300/300 [==============================] - 0s 313us/step - loss: 0.0974 - acc: 0.8367\n",
      "Epoch 67/200\n",
      "300/300 [==============================] - 0s 300us/step - loss: 0.0982 - acc: 0.8133\n",
      "Epoch 68/200\n",
      "300/300 [==============================] - 0s 293us/step - loss: 0.0978 - acc: 0.8300\n",
      "Epoch 69/200\n",
      "300/300 [==============================] - 0s 283us/step - loss: 0.0972 - acc: 0.8033\n",
      "Epoch 70/200\n",
      "300/300 [==============================] - 0s 280us/step - loss: 0.0956 - acc: 0.8233\n",
      "Epoch 71/200\n",
      "300/300 [==============================] - 0s 273us/step - loss: 0.0946 - acc: 0.8400\n",
      "Epoch 72/200\n",
      "300/300 [==============================] - 0s 227us/step - loss: 0.0940 - acc: 0.8467\n",
      "Epoch 73/200\n",
      "300/300 [==============================] - 0s 220us/step - loss: 0.0938 - acc: 0.8333\n",
      "Epoch 74/200\n",
      "300/300 [==============================] - 0s 227us/step - loss: 0.0892 - acc: 0.8633\n",
      "Epoch 75/200\n",
      "300/300 [==============================] - 0s 223us/step - loss: 0.0928 - acc: 0.8433\n",
      "Epoch 76/200\n",
      "300/300 [==============================] - 0s 230us/step - loss: 0.0874 - acc: 0.8467\n",
      "Epoch 77/200\n",
      "300/300 [==============================] - 0s 227us/step - loss: 0.0890 - acc: 0.8500\n",
      "Epoch 78/200\n",
      "300/300 [==============================] - 0s 230us/step - loss: 0.0975 - acc: 0.8133\n",
      "Epoch 79/200\n",
      "300/300 [==============================] - 0s 227us/step - loss: 0.0892 - acc: 0.8367\n",
      "Epoch 80/200\n",
      "300/300 [==============================] - 0s 220us/step - loss: 0.0871 - acc: 0.8633\n",
      "Epoch 81/200\n",
      "300/300 [==============================] - 0s 223us/step - loss: 0.0947 - acc: 0.8367\n",
      "Epoch 82/200\n",
      "300/300 [==============================] - 0s 220us/step - loss: 0.0847 - acc: 0.8767\n",
      "Epoch 83/200\n"
     ]
    },
    {
     "name": "stdout",
     "output_type": "stream",
     "text": [
      "300/300 [==============================] - 0s 220us/step - loss: 0.0843 - acc: 0.8800\n",
      "Epoch 84/200\n",
      "300/300 [==============================] - 0s 237us/step - loss: 0.0880 - acc: 0.8500\n",
      "Epoch 85/200\n",
      "300/300 [==============================] - 0s 197us/step - loss: 0.0845 - acc: 0.8633\n",
      "Epoch 86/200\n",
      "300/300 [==============================] - 0s 223us/step - loss: 0.0841 - acc: 0.8833\n",
      "Epoch 87/200\n",
      "300/300 [==============================] - 0s 217us/step - loss: 0.0843 - acc: 0.8667\n",
      "Epoch 88/200\n",
      "300/300 [==============================] - 0s 223us/step - loss: 0.0844 - acc: 0.8633\n",
      "Epoch 89/200\n",
      "300/300 [==============================] - 0s 190us/step - loss: 0.0851 - acc: 0.8800\n",
      "Epoch 90/200\n",
      "300/300 [==============================] - 0s 253us/step - loss: 0.0875 - acc: 0.8333\n",
      "Epoch 91/200\n",
      "300/300 [==============================] - 0s 220us/step - loss: 0.0825 - acc: 0.8667\n",
      "Epoch 92/200\n",
      "300/300 [==============================] - 0s 220us/step - loss: 0.0826 - acc: 0.8700\n",
      "Epoch 93/200\n",
      "300/300 [==============================] - 0s 247us/step - loss: 0.0802 - acc: 0.8833\n",
      "Epoch 94/200\n",
      "300/300 [==============================] - 0s 247us/step - loss: 0.0861 - acc: 0.8567\n",
      "Epoch 95/200\n",
      "300/300 [==============================] - 0s 187us/step - loss: 0.0837 - acc: 0.8833\n",
      "Epoch 96/200\n",
      "300/300 [==============================] - 0s 240us/step - loss: 0.0818 - acc: 0.8667\n",
      "Epoch 97/200\n",
      "300/300 [==============================] - 0s 223us/step - loss: 0.0821 - acc: 0.8600\n",
      "Epoch 98/200\n",
      "300/300 [==============================] - 0s 267us/step - loss: 0.0748 - acc: 0.9133\n",
      "Epoch 99/200\n",
      "300/300 [==============================] - 0s 280us/step - loss: 0.0766 - acc: 0.8800\n",
      "Epoch 100/200\n",
      "300/300 [==============================] - 0s 263us/step - loss: 0.0755 - acc: 0.9100\n",
      "Epoch 101/200\n",
      "300/300 [==============================] - 0s 277us/step - loss: 0.0805 - acc: 0.8767\n",
      "Epoch 102/200\n",
      "300/300 [==============================] - 0s 273us/step - loss: 0.0844 - acc: 0.8667\n",
      "Epoch 103/200\n",
      "300/300 [==============================] - 0s 270us/step - loss: 0.0758 - acc: 0.8867\n",
      "Epoch 104/200\n",
      "300/300 [==============================] - 0s 190us/step - loss: 0.0770 - acc: 0.8800\n",
      "Epoch 105/200\n",
      "300/300 [==============================] - 0s 233us/step - loss: 0.0728 - acc: 0.9100\n",
      "Epoch 106/200\n",
      "300/300 [==============================] - 0s 210us/step - loss: 0.0752 - acc: 0.9067\n",
      "Epoch 107/200\n",
      "300/300 [==============================] - 0s 230us/step - loss: 0.0788 - acc: 0.8767\n",
      "Epoch 108/200\n",
      "300/300 [==============================] - 0s 213us/step - loss: 0.0782 - acc: 0.8700\n",
      "Epoch 109/200\n",
      "300/300 [==============================] - 0s 203us/step - loss: 0.0771 - acc: 0.8967\n",
      "Epoch 110/200\n",
      "300/300 [==============================] - 0s 240us/step - loss: 0.0785 - acc: 0.8767\n",
      "Epoch 111/200\n",
      "300/300 [==============================] - 0s 237us/step - loss: 0.0700 - acc: 0.8900\n",
      "Epoch 112/200\n",
      "300/300 [==============================] - 0s 213us/step - loss: 0.0715 - acc: 0.9067\n",
      "Epoch 113/200\n",
      "300/300 [==============================] - 0s 217us/step - loss: 0.0695 - acc: 0.9000\n",
      "Epoch 114/200\n",
      "300/300 [==============================] - 0s 220us/step - loss: 0.0707 - acc: 0.9167\n",
      "Epoch 115/200\n",
      "300/300 [==============================] - 0s 223us/step - loss: 0.0730 - acc: 0.9000\n",
      "Epoch 116/200\n",
      "300/300 [==============================] - 0s 200us/step - loss: 0.0701 - acc: 0.9133\n",
      "Epoch 117/200\n",
      "300/300 [==============================] - 0s 253us/step - loss: 0.0722 - acc: 0.9100\n",
      "Epoch 118/200\n",
      "300/300 [==============================] - 0s 217us/step - loss: 0.0714 - acc: 0.9267\n",
      "Epoch 119/200\n",
      "300/300 [==============================] - 0s 223us/step - loss: 0.0667 - acc: 0.9233\n",
      "Epoch 120/200\n",
      "300/300 [==============================] - 0s 220us/step - loss: 0.0683 - acc: 0.9233\n",
      "Epoch 121/200\n",
      "300/300 [==============================] - 0s 253us/step - loss: 0.0736 - acc: 0.8833\n",
      "Epoch 122/200\n",
      "300/300 [==============================] - 0s 190us/step - loss: 0.0713 - acc: 0.9067\n",
      "Epoch 123/200\n",
      "300/300 [==============================] - 0s 227us/step - loss: 0.0667 - acc: 0.9167\n",
      "Epoch 124/200\n",
      "300/300 [==============================] - 0s 220us/step - loss: 0.0680 - acc: 0.9133\n",
      "Epoch 125/200\n",
      "300/300 [==============================] - 0s 220us/step - loss: 0.0705 - acc: 0.9067\n",
      "Epoch 126/200\n",
      "300/300 [==============================] - 0s 227us/step - loss: 0.0683 - acc: 0.9033\n",
      "Epoch 127/200\n",
      "300/300 [==============================] - 0s 237us/step - loss: 0.0693 - acc: 0.8967\n",
      "Epoch 128/200\n",
      "300/300 [==============================] - 0s 193us/step - loss: 0.0683 - acc: 0.9067\n",
      "Epoch 129/200\n",
      "300/300 [==============================] - 0s 237us/step - loss: 0.0670 - acc: 0.9200\n",
      "Epoch 130/200\n",
      "300/300 [==============================] - 0s 223us/step - loss: 0.0713 - acc: 0.8967\n",
      "Epoch 131/200\n",
      "300/300 [==============================] - 0s 220us/step - loss: 0.0659 - acc: 0.9167\n",
      "Epoch 132/200\n",
      "300/300 [==============================] - 0s 223us/step - loss: 0.0659 - acc: 0.9267\n",
      "Epoch 133/200\n",
      "300/300 [==============================] - 0s 220us/step - loss: 0.0628 - acc: 0.9333\n",
      "Epoch 134/200\n",
      "300/300 [==============================] - 0s 220us/step - loss: 0.0671 - acc: 0.9000\n",
      "Epoch 135/200\n",
      "300/300 [==============================] - 0s 220us/step - loss: 0.0668 - acc: 0.9300\n",
      "Epoch 136/200\n",
      "300/300 [==============================] - 0s 260us/step - loss: 0.0620 - acc: 0.9433\n",
      "Epoch 137/200\n",
      "300/300 [==============================] - 0s 233us/step - loss: 0.0611 - acc: 0.9600\n",
      "Epoch 138/200\n",
      "300/300 [==============================] - 0s 240us/step - loss: 0.0666 - acc: 0.9167\n",
      "Epoch 139/200\n",
      "300/300 [==============================] - 0s 243us/step - loss: 0.0641 - acc: 0.9333\n",
      "Epoch 140/200\n",
      "300/300 [==============================] - 0s 277us/step - loss: 0.0612 - acc: 0.9467\n",
      "Epoch 141/200\n",
      "300/300 [==============================] - 0s 270us/step - loss: 0.0609 - acc: 0.9400\n",
      "Epoch 142/200\n",
      "300/300 [==============================] - 0s 277us/step - loss: 0.0627 - acc: 0.9433\n",
      "Epoch 143/200\n",
      "300/300 [==============================] - 0s 303us/step - loss: 0.0618 - acc: 0.9333\n",
      "Epoch 144/200\n",
      "300/300 [==============================] - 0s 310us/step - loss: 0.0609 - acc: 0.9400\n",
      "Epoch 145/200\n",
      "300/300 [==============================] - 0s 293us/step - loss: 0.0621 - acc: 0.9367\n",
      "Epoch 146/200\n",
      "300/300 [==============================] - 0s 283us/step - loss: 0.0594 - acc: 0.9467\n",
      "Epoch 147/200\n",
      "300/300 [==============================] - 0s 283us/step - loss: 0.0613 - acc: 0.9233\n",
      "Epoch 148/200\n",
      "300/300 [==============================] - 0s 290us/step - loss: 0.0602 - acc: 0.9367\n",
      "Epoch 149/200\n",
      "300/300 [==============================] - 0s 230us/step - loss: 0.0569 - acc: 0.9633\n",
      "Epoch 150/200\n",
      "300/300 [==============================] - 0s 223us/step - loss: 0.0620 - acc: 0.9300\n",
      "Epoch 151/200\n",
      "300/300 [==============================] - 0s 223us/step - loss: 0.0606 - acc: 0.9433\n",
      "Epoch 152/200\n",
      "300/300 [==============================] - 0s 223us/step - loss: 0.0586 - acc: 0.9500\n",
      "Epoch 153/200\n",
      "300/300 [==============================] - 0s 230us/step - loss: 0.0580 - acc: 0.9767\n",
      "Epoch 154/200\n",
      "300/300 [==============================] - 0s 220us/step - loss: 0.0636 - acc: 0.9233\n",
      "Epoch 155/200\n",
      "300/300 [==============================] - 0s 217us/step - loss: 0.0562 - acc: 0.9500\n",
      "Epoch 156/200\n",
      "300/300 [==============================] - 0s 230us/step - loss: 0.0567 - acc: 0.9467\n",
      "Epoch 157/200\n",
      "300/300 [==============================] - 0s 220us/step - loss: 0.0574 - acc: 0.9533\n",
      "Epoch 158/200\n",
      "300/300 [==============================] - 0s 227us/step - loss: 0.0581 - acc: 0.9433\n",
      "Epoch 159/200\n",
      "300/300 [==============================] - 0s 223us/step - loss: 0.0545 - acc: 0.9400\n",
      "Epoch 160/200\n",
      "300/300 [==============================] - 0s 210us/step - loss: 0.0589 - acc: 0.9467\n",
      "Epoch 161/200\n",
      "300/300 [==============================] - 0s 247us/step - loss: 0.0578 - acc: 0.9433\n",
      "Epoch 162/200\n",
      "300/300 [==============================] - 0s 303us/step - loss: 0.0607 - acc: 0.9167\n",
      "Epoch 163/200\n",
      "300/300 [==============================] - 0s 230us/step - loss: 0.0543 - acc: 0.9633\n",
      "Epoch 164/200\n",
      "300/300 [==============================] - 0s 220us/step - loss: 0.0573 - acc: 0.9467\n",
      "Epoch 165/200\n"
     ]
    },
    {
     "name": "stdout",
     "output_type": "stream",
     "text": [
      "300/300 [==============================] - 0s 227us/step - loss: 0.0576 - acc: 0.9367\n",
      "Epoch 166/200\n",
      "300/300 [==============================] - 0s 197us/step - loss: 0.0579 - acc: 0.9467\n",
      "Epoch 167/200\n",
      "300/300 [==============================] - 0s 220us/step - loss: 0.0580 - acc: 0.9367\n",
      "Epoch 168/200\n",
      "300/300 [==============================] - 0s 243us/step - loss: 0.0529 - acc: 0.9667\n",
      "Epoch 169/200\n",
      "300/300 [==============================] - 0s 267us/step - loss: 0.0545 - acc: 0.9567\n",
      "Epoch 170/200\n",
      "300/300 [==============================] - 0s 270us/step - loss: 0.0530 - acc: 0.9567\n",
      "Epoch 171/200\n",
      "300/300 [==============================] - 0s 240us/step - loss: 0.0538 - acc: 0.9533\n",
      "Epoch 172/200\n",
      "300/300 [==============================] - 0s 303us/step - loss: 0.0566 - acc: 0.9433\n",
      "Epoch 173/200\n",
      "300/300 [==============================] - 0s 300us/step - loss: 0.0530 - acc: 0.9500\n",
      "Epoch 174/200\n",
      "300/300 [==============================] - 0s 330us/step - loss: 0.0507 - acc: 0.9600\n",
      "Epoch 175/200\n",
      "300/300 [==============================] - 0s 337us/step - loss: 0.0546 - acc: 0.9433\n",
      "Epoch 176/200\n",
      "300/300 [==============================] - 0s 317us/step - loss: 0.0540 - acc: 0.9500\n",
      "Epoch 177/200\n",
      "300/300 [==============================] - 0s 317us/step - loss: 0.0542 - acc: 0.9433\n",
      "Epoch 178/200\n",
      "300/300 [==============================] - 0s 313us/step - loss: 0.0508 - acc: 0.9633\n",
      "Epoch 179/200\n",
      "300/300 [==============================] - 0s 273us/step - loss: 0.0523 - acc: 0.9600\n",
      "Epoch 180/200\n",
      "300/300 [==============================] - 0s 280us/step - loss: 0.0530 - acc: 0.9467\n",
      "Epoch 181/200\n",
      "300/300 [==============================] - 0s 280us/step - loss: 0.0507 - acc: 0.9667\n",
      "Epoch 182/200\n",
      "300/300 [==============================] - 0s 257us/step - loss: 0.0517 - acc: 0.9500\n",
      "Epoch 183/200\n",
      "300/300 [==============================] - 0s 270us/step - loss: 0.0539 - acc: 0.9567\n",
      "Epoch 184/200\n",
      "300/300 [==============================] - 0s 260us/step - loss: 0.0471 - acc: 0.9633\n",
      "Epoch 185/200\n",
      "300/300 [==============================] - 0s 253us/step - loss: 0.0551 - acc: 0.9433\n",
      "Epoch 186/200\n",
      "300/300 [==============================] - 0s 310us/step - loss: 0.0501 - acc: 0.9600\n",
      "Epoch 187/200\n",
      "300/300 [==============================] - 0s 283us/step - loss: 0.0474 - acc: 0.9600\n",
      "Epoch 188/200\n",
      "300/300 [==============================] - 0s 260us/step - loss: 0.0487 - acc: 0.9667\n",
      "Epoch 189/200\n",
      "300/300 [==============================] - 0s 260us/step - loss: 0.0544 - acc: 0.9367\n",
      "Epoch 190/200\n",
      "300/300 [==============================] - 0s 283us/step - loss: 0.0496 - acc: 0.9600\n",
      "Epoch 191/200\n",
      "300/300 [==============================] - 0s 243us/step - loss: 0.0513 - acc: 0.9567\n",
      "Epoch 192/200\n",
      "300/300 [==============================] - 0s 260us/step - loss: 0.0474 - acc: 0.9767\n",
      "Epoch 193/200\n",
      "300/300 [==============================] - 0s 280us/step - loss: 0.0493 - acc: 0.9567\n",
      "Epoch 194/200\n",
      "300/300 [==============================] - 0s 280us/step - loss: 0.0497 - acc: 0.9600\n",
      "Epoch 195/200\n",
      "300/300 [==============================] - 0s 267us/step - loss: 0.0481 - acc: 0.9667\n",
      "Epoch 196/200\n",
      "300/300 [==============================] - 0s 263us/step - loss: 0.0469 - acc: 0.9800\n",
      "Epoch 197/200\n",
      "300/300 [==============================] - 0s 263us/step - loss: 0.0477 - acc: 0.9700\n",
      "Epoch 198/200\n",
      "300/300 [==============================] - 0s 270us/step - loss: 0.0466 - acc: 0.9700\n",
      "Epoch 199/200\n",
      "300/300 [==============================] - 0s 267us/step - loss: 0.0477 - acc: 0.9667\n",
      "Epoch 200/200\n",
      "300/300 [==============================] - 0s 253us/step - loss: 0.0487 - acc: 0.9600\n",
      "_________________________________________________________________\n",
      "Layer (type)                 Output Shape              Param #   \n",
      "=================================================================\n",
      "dense_123 (Dense)            (None, 3)                 15555     \n",
      "_________________________________________________________________\n",
      "activation_131 (Activation)  (None, 3)                 0         \n",
      "=================================================================\n",
      "Total params: 15,555\n",
      "Trainable params: 15,555\n",
      "Non-trainable params: 0\n",
      "_________________________________________________________________\n",
      "None\n"
     ]
    }
   ],
   "source": [
    "from keras.layers import Dense, Activation\n",
    "from keras.models import Sequential\n",
    "from keras.layers import Conv2D, MaxPooling2D\n",
    "\n",
    "model = Sequential()\n",
    "\n",
    "model.add(Dense(3, input_shape=(5184,)))\n",
    "model.add(Activation('sigmoid'))\n",
    "print(model.output_shape)\n",
    "\n",
    "from keras.optimizers import SGD\n",
    "sgd = SGD(lr=0.005,decay=1e-6, momentum=0.9,nesterov=True)\n",
    "model.compile(loss='mean_squared_error',optimizer=sgd, metrics=['accuracy']) \n",
    "history2=model.fit(X_train2, Y_train2, epochs=200, batch_size=16) \n",
    "\n",
    "\n",
    "print(model.summary())"
   ]
  },
  {
   "cell_type": "markdown",
   "metadata": {},
   "source": [
    "# 5.5.1. Evaluation"
   ]
  },
  {
   "cell_type": "code",
   "execution_count": 733,
   "metadata": {},
   "outputs": [
    {
     "name": "stdout",
     "output_type": "stream",
     "text": [
      "Creating data:\n",
      "0\n",
      "10\n",
      "20\n",
      "30\n",
      "40\n",
      "50\n",
      "60\n",
      "70\n",
      "80\n",
      "90\n",
      "100\n",
      "110\n",
      "120\n",
      "130\n",
      "140\n",
      "150\n",
      "160\n",
      "170\n",
      "180\n",
      "190\n",
      "200\n",
      "210\n",
      "220\n",
      "230\n",
      "240\n",
      "250\n",
      "260\n",
      "270\n",
      "280\n",
      "290\n",
      "300/300 [==============================] - 1s 4ms/step\n",
      "The train loss is  [0.053289596835772196, 0.9266666674613953]\n",
      "300/300 [==============================] - 0s 137us/step\n",
      "The test loss is  [0.17342265874147414, 0.5833333325386048]\n"
     ]
    }
   ],
   "source": [
    "[X_test2, Y_test2] = generate_test_set_classification()\n",
    "print(\"The train loss is \",model.evaluate(X_train2, Y_train2))\n",
    "print(\"The test loss is \",model.evaluate(X_test2, Y_test2))\n"
   ]
  },
  {
   "cell_type": "markdown",
   "metadata": {},
   "source": [
    "- The results are not good at all so clearly, a linear classifier is inadequate for this dataset"
   ]
  },
  {
   "cell_type": "markdown",
   "metadata": {},
   "source": [
    "# 5.2. Convolutional network"
   ]
  },
  {
   "cell_type": "markdown",
   "metadata": {},
   "source": [
    "# 5.2.1. Reformating the Input"
   ]
  },
  {
   "cell_type": "code",
   "execution_count": 734,
   "metadata": {},
   "outputs": [
    {
     "name": "stdout",
     "output_type": "stream",
     "text": [
      "(300, 72, 72, 1)\n"
     ]
    }
   ],
   "source": [
    "X_train3 = X_train0.reshape(X_train0.shape[0], 72,72,1)\n",
    "Y_train3=Y_train0\n",
    "print(X_train3.shape)"
   ]
  },
  {
   "cell_type": "markdown",
   "metadata": {},
   "source": [
    "# 5.2.2. Creating the Model"
   ]
  },
  {
   "cell_type": "code",
   "execution_count": 735,
   "metadata": {},
   "outputs": [
    {
     "name": "stdout",
     "output_type": "stream",
     "text": [
      "(None, 3)\n"
     ]
    }
   ],
   "source": [
    "from keras.layers import Dense, Activation\n",
    "from keras.models import Sequential\n",
    "from keras.layers import Conv2D, MaxPooling2D\n",
    "from keras.layers import Flatten\n",
    "from keras.layers import Dropout\n",
    "from keras.layers.normalization import BatchNormalization\n",
    "from sklearn.model_selection import GridSearchCV\n",
    "from keras.wrappers.scikit_learn import KerasClassifier\n",
    "\n",
    "\n",
    "model = Sequential()\n",
    "nb_neurons = 16\n",
    "    \n",
    "model.add(Conv2D(nb_neurons, (5, 5),activation='relu',input_shape=(72, 72, 1)))\n",
    "model.add(MaxPooling2D(pool_size=(2, 2)))\n",
    "model.add(Dropout(0.5))\n",
    "    \n",
    "model.add(Flatten()) \n",
    "model.add(BatchNormalization())\n",
    "model.add(Dense(3))\n",
    "model.add(Activation('softmax'))\n",
    "\n",
    "print(model.output_shape)\n",
    "    "
   ]
  },
  {
   "cell_type": "markdown",
   "metadata": {},
   "source": [
    "# 5.2.3. Optimization"
   ]
  },
  {
   "cell_type": "markdown",
   "metadata": {},
   "source": [
    "- Here we will use the SGD Optimizer. We will try  to  pre-train our model using a learning rate that we will set then to a smaller in order to move with smaller steps once we are closer to the optimum"
   ]
  },
  {
   "cell_type": "code",
   "execution_count": 736,
   "metadata": {},
   "outputs": [
    {
     "name": "stdout",
     "output_type": "stream",
     "text": [
      "Epoch 1/50\n",
      "300/300 [==============================] - 10s 32ms/step - loss: 0.2516 - acc: 0.4067\n",
      "Epoch 2/50\n",
      "300/300 [==============================] - 1s 5ms/step - loss: 0.1969 - acc: 0.5467\n",
      "Epoch 3/50\n",
      "300/300 [==============================] - 1s 4ms/step - loss: 0.1339 - acc: 0.6867\n",
      "Epoch 4/50\n",
      "300/300 [==============================] - 1s 4ms/step - loss: 0.1064 - acc: 0.7400\n",
      "Epoch 5/50\n",
      "300/300 [==============================] - 1s 4ms/step - loss: 0.0955 - acc: 0.7900\n",
      "Epoch 6/50\n",
      "300/300 [==============================] - 1s 4ms/step - loss: 0.0773 - acc: 0.8433\n",
      "Epoch 7/50\n",
      "300/300 [==============================] - 1s 4ms/step - loss: 0.0657 - acc: 0.8767\n",
      "Epoch 8/50\n",
      "300/300 [==============================] - 1s 4ms/step - loss: 0.0693 - acc: 0.8400\n",
      "Epoch 9/50\n",
      "300/300 [==============================] - 1s 5ms/step - loss: 0.0780 - acc: 0.8333\n",
      "Epoch 10/50\n",
      "300/300 [==============================] - 1s 4ms/step - loss: 0.0681 - acc: 0.8600\n",
      "Epoch 11/50\n",
      "300/300 [==============================] - 1s 4ms/step - loss: 0.0523 - acc: 0.8967\n",
      "Epoch 12/50\n",
      "300/300 [==============================] - 1s 4ms/step - loss: 0.0491 - acc: 0.9267\n",
      "Epoch 13/50\n",
      "300/300 [==============================] - 1s 4ms/step - loss: 0.0384 - acc: 0.9333\n",
      "Epoch 14/50\n",
      "300/300 [==============================] - 2s 5ms/step - loss: 0.0327 - acc: 0.9633\n",
      "Epoch 15/50\n",
      "300/300 [==============================] - 1s 4ms/step - loss: 0.0295 - acc: 0.9500\n",
      "Epoch 16/50\n",
      "300/300 [==============================] - 1s 4ms/step - loss: 0.0348 - acc: 0.9433\n",
      "Epoch 17/50\n",
      "300/300 [==============================] - 1s 4ms/step - loss: 0.0283 - acc: 0.9533\n",
      "Epoch 18/50\n",
      "300/300 [==============================] - 1s 4ms/step - loss: 0.0242 - acc: 0.9600\n",
      "Epoch 19/50\n",
      "300/300 [==============================] - 1s 4ms/step - loss: 0.0273 - acc: 0.9600\n",
      "Epoch 20/50\n",
      "300/300 [==============================] - 1s 4ms/step - loss: 0.0210 - acc: 0.9767\n",
      "Epoch 21/50\n",
      "300/300 [==============================] - 1s 4ms/step - loss: 0.0204 - acc: 0.9700\n",
      "Epoch 22/50\n",
      "300/300 [==============================] - 1s 4ms/step - loss: 0.0130 - acc: 0.9833\n",
      "Epoch 23/50\n",
      "300/300 [==============================] - 1s 4ms/step - loss: 0.0141 - acc: 0.9767\n",
      "Epoch 24/50\n",
      "300/300 [==============================] - 1s 5ms/step - loss: 0.0165 - acc: 0.9767\n",
      "Epoch 25/50\n",
      "300/300 [==============================] - 1s 5ms/step - loss: 0.0156 - acc: 0.9800\n",
      "Epoch 26/50\n",
      "300/300 [==============================] - 1s 4ms/step - loss: 0.0222 - acc: 0.9567\n",
      "Epoch 27/50\n",
      "300/300 [==============================] - 1s 4ms/step - loss: 0.0148 - acc: 0.9733\n",
      "Epoch 28/50\n",
      "300/300 [==============================] - 1s 4ms/step - loss: 0.0120 - acc: 0.9867\n",
      "Epoch 29/50\n",
      "300/300 [==============================] - 1s 5ms/step - loss: 0.0152 - acc: 0.9833\n",
      "Epoch 30/50\n",
      "300/300 [==============================] - 1s 4ms/step - loss: 0.0137 - acc: 0.9767\n",
      "Epoch 31/50\n",
      "300/300 [==============================] - 1s 4ms/step - loss: 0.0177 - acc: 0.9700\n",
      "Epoch 32/50\n",
      "300/300 [==============================] - 1s 4ms/step - loss: 0.0126 - acc: 0.9833\n",
      "Epoch 33/50\n",
      "300/300 [==============================] - 1s 4ms/step - loss: 0.0106 - acc: 0.9867\n",
      "Epoch 34/50\n",
      "300/300 [==============================] - 1s 5ms/step - loss: 0.0116 - acc: 0.9867\n",
      "Epoch 35/50\n",
      "300/300 [==============================] - 1s 5ms/step - loss: 0.0118 - acc: 0.9867A: 1s - loss: 0.0138 - acc:\n",
      "Epoch 36/50\n",
      "300/300 [==============================] - 1s 4ms/step - loss: 0.0115 - acc: 0.9800\n",
      "Epoch 37/50\n",
      "300/300 [==============================] - 1s 4ms/step - loss: 0.0088 - acc: 0.9900\n",
      "Epoch 38/50\n",
      "300/300 [==============================] - 1s 4ms/step - loss: 0.0074 - acc: 0.9967\n",
      "Epoch 39/50\n",
      "300/300 [==============================] - 1s 5ms/step - loss: 0.0081 - acc: 0.9900\n",
      "Epoch 40/50\n",
      "300/300 [==============================] - 1s 5ms/step - loss: 0.0090 - acc: 0.9933\n",
      "Epoch 41/50\n",
      "300/300 [==============================] - 1s 4ms/step - loss: 0.0081 - acc: 0.9867\n",
      "Epoch 42/50\n",
      "300/300 [==============================] - 1s 4ms/step - loss: 0.0064 - acc: 0.9967\n",
      "Epoch 43/50\n",
      "300/300 [==============================] - 1s 4ms/step - loss: 0.0105 - acc: 0.9867\n",
      "Epoch 44/50\n",
      "300/300 [==============================] - 1s 4ms/step - loss: 0.0052 - acc: 0.9933\n",
      "Epoch 45/50\n",
      "300/300 [==============================] - 1s 4ms/step - loss: 0.0055 - acc: 0.9933\n",
      "Epoch 46/50\n",
      "300/300 [==============================] - 1s 4ms/step - loss: 0.0058 - acc: 0.9900\n",
      "Epoch 47/50\n",
      "300/300 [==============================] - 1s 4ms/step - loss: 0.0036 - acc: 1.0000\n",
      "Epoch 48/50\n",
      "300/300 [==============================] - 1s 4ms/step - loss: 0.0066 - acc: 0.9933\n",
      "Epoch 49/50\n",
      "300/300 [==============================] - 1s 5ms/step - loss: 0.0065 - acc: 0.9967\n",
      "Epoch 50/50\n",
      "300/300 [==============================] - 1s 5ms/step - loss: 0.0064 - acc: 0.9900\n",
      "Epoch 1/50\n",
      "300/300 [==============================] - 9s 30ms/step - loss: 0.0086 - acc: 0.9900\n",
      "Epoch 2/50\n",
      "300/300 [==============================] - 1s 5ms/step - loss: 0.0068 - acc: 0.9933\n",
      "Epoch 3/50\n",
      "300/300 [==============================] - 1s 5ms/step - loss: 0.0049 - acc: 0.9900\n",
      "Epoch 4/50\n",
      "300/300 [==============================] - 1s 5ms/step - loss: 0.0047 - acc: 0.9967\n",
      "Epoch 5/50\n",
      "300/300 [==============================] - 1s 4ms/step - loss: 0.0077 - acc: 0.9933\n",
      "Epoch 6/50\n",
      "300/300 [==============================] - 1s 4ms/step - loss: 0.0076 - acc: 0.9933\n",
      "Epoch 7/50\n",
      "300/300 [==============================] - 1s 4ms/step - loss: 0.0066 - acc: 0.9900\n",
      "Epoch 8/50\n",
      "300/300 [==============================] - 1s 4ms/step - loss: 0.0031 - acc: 1.0000\n",
      "Epoch 9/50\n",
      "300/300 [==============================] - 1s 5ms/step - loss: 0.0032 - acc: 0.9967\n",
      "Epoch 10/50\n",
      "300/300 [==============================] - 1s 4ms/step - loss: 0.0036 - acc: 0.9967\n",
      "Epoch 11/50\n",
      "300/300 [==============================] - 1s 4ms/step - loss: 0.0051 - acc: 0.9967\n",
      "Epoch 12/50\n",
      "300/300 [==============================] - 1s 4ms/step - loss: 0.0046 - acc: 0.9967\n",
      "Epoch 13/50\n",
      "300/300 [==============================] - 1s 5ms/step - loss: 0.0059 - acc: 0.9900\n",
      "Epoch 14/50\n",
      "300/300 [==============================] - 1s 5ms/step - loss: 0.0041 - acc: 0.9967\n",
      "Epoch 15/50\n",
      "300/300 [==============================] - 1s 4ms/step - loss: 0.0070 - acc: 0.9967\n",
      "Epoch 16/50\n",
      "300/300 [==============================] - 1s 4ms/step - loss: 0.0036 - acc: 0.9967\n",
      "Epoch 17/50\n",
      "300/300 [==============================] - 1s 4ms/step - loss: 0.0055 - acc: 0.9933\n",
      "Epoch 18/50\n",
      "300/300 [==============================] - 1s 4ms/step - loss: 0.0058 - acc: 0.9967\n",
      "Epoch 19/50\n",
      "300/300 [==============================] - 1s 5ms/step - loss: 0.0066 - acc: 0.9933\n",
      "Epoch 20/50\n",
      "300/300 [==============================] - 1s 4ms/step - loss: 0.0057 - acc: 0.9967\n",
      "Epoch 21/50\n",
      "300/300 [==============================] - 1s 4ms/step - loss: 0.0058 - acc: 0.9933\n",
      "Epoch 22/50\n",
      "300/300 [==============================] - 1s 4ms/step - loss: 0.0045 - acc: 0.9967\n",
      "Epoch 23/50\n",
      "300/300 [==============================] - 1s 4ms/step - loss: 0.0032 - acc: 1.0000\n",
      "Epoch 24/50\n",
      "300/300 [==============================] - 1s 5ms/step - loss: 0.0064 - acc: 0.9867\n",
      "Epoch 25/50\n",
      "300/300 [==============================] - 1s 4ms/step - loss: 0.0037 - acc: 0.9967\n",
      "Epoch 26/50\n",
      "300/300 [==============================] - 1s 5ms/step - loss: 0.0064 - acc: 0.9900\n",
      "Epoch 27/50\n",
      "300/300 [==============================] - 1s 4ms/step - loss: 0.0053 - acc: 0.9967\n",
      "Epoch 28/50\n",
      "300/300 [==============================] - 1s 5ms/step - loss: 0.0038 - acc: 1.0000\n",
      "Epoch 29/50\n",
      "300/300 [==============================] - 1s 5ms/step - loss: 0.0047 - acc: 0.9933\n",
      "Epoch 30/50\n",
      "300/300 [==============================] - 1s 4ms/step - loss: 0.0048 - acc: 0.9967\n",
      "Epoch 31/50\n",
      "300/300 [==============================] - 1s 5ms/step - loss: 0.0070 - acc: 0.9900\n",
      "Epoch 32/50\n",
      "300/300 [==============================] - 1s 4ms/step - loss: 0.0044 - acc: 0.9933\n",
      "Epoch 33/50\n",
      "300/300 [==============================] - 1s 4ms/step - loss: 0.0035 - acc: 1.0000\n",
      "Epoch 34/50\n",
      "300/300 [==============================] - 1s 4ms/step - loss: 0.0021 - acc: 1.0000\n",
      "Epoch 35/50\n",
      "300/300 [==============================] - 1s 4ms/step - loss: 0.0046 - acc: 0.9933\n",
      "Epoch 36/50\n"
     ]
    },
    {
     "name": "stdout",
     "output_type": "stream",
     "text": [
      "300/300 [==============================] - 1s 4ms/step - loss: 0.0043 - acc: 0.9933\n",
      "Epoch 37/50\n",
      "300/300 [==============================] - 1s 4ms/step - loss: 0.0078 - acc: 0.9900\n",
      "Epoch 38/50\n",
      "300/300 [==============================] - 1s 5ms/step - loss: 0.0039 - acc: 0.9967\n",
      "Epoch 39/50\n",
      "300/300 [==============================] - 1s 4ms/step - loss: 0.0028 - acc: 1.0000\n",
      "Epoch 40/50\n",
      "300/300 [==============================] - 1s 4ms/step - loss: 0.0061 - acc: 0.9933\n",
      "Epoch 41/50\n",
      "300/300 [==============================] - 1s 4ms/step - loss: 0.0065 - acc: 0.9900\n",
      "Epoch 42/50\n",
      "300/300 [==============================] - 1s 4ms/step - loss: 0.0054 - acc: 0.9933\n",
      "Epoch 43/50\n",
      "300/300 [==============================] - 1s 4ms/step - loss: 0.0040 - acc: 0.9967\n",
      "Epoch 44/50\n",
      "300/300 [==============================] - 1s 4ms/step - loss: 0.0027 - acc: 1.0000\n",
      "Epoch 45/50\n",
      "300/300 [==============================] - 1s 4ms/step - loss: 0.0055 - acc: 0.9933\n",
      "Epoch 46/50\n",
      "300/300 [==============================] - 1s 4ms/step - loss: 0.0071 - acc: 0.9833\n",
      "Epoch 47/50\n",
      "300/300 [==============================] - 1s 4ms/step - loss: 0.0043 - acc: 0.9967\n",
      "Epoch 48/50\n",
      "300/300 [==============================] - 1s 4ms/step - loss: 0.0045 - acc: 0.9967\n",
      "Epoch 49/50\n",
      "300/300 [==============================] - 1s 5ms/step - loss: 0.0068 - acc: 0.9933\n",
      "Epoch 50/50\n",
      "300/300 [==============================] - 1s 4ms/step - loss: 0.0024 - acc: 1.0000\n",
      "_________________________________________________________________\n",
      "Layer (type)                 Output Shape              Param #   \n",
      "=================================================================\n",
      "conv2d_20 (Conv2D)           (None, 68, 68, 16)        416       \n",
      "_________________________________________________________________\n",
      "max_pooling2d_18 (MaxPooling (None, 34, 34, 16)        0         \n",
      "_________________________________________________________________\n",
      "dropout_18 (Dropout)         (None, 34, 34, 16)        0         \n",
      "_________________________________________________________________\n",
      "flatten_14 (Flatten)         (None, 18496)             0         \n",
      "_________________________________________________________________\n",
      "batch_normalization_26 (Batc (None, 18496)             73984     \n",
      "_________________________________________________________________\n",
      "dense_124 (Dense)            (None, 3)                 55491     \n",
      "_________________________________________________________________\n",
      "activation_132 (Activation)  (None, 3)                 0         \n",
      "=================================================================\n",
      "Total params: 129,891\n",
      "Trainable params: 92,899\n",
      "Non-trainable params: 36,992\n",
      "_________________________________________________________________\n",
      "None\n"
     ]
    }
   ],
   "source": [
    "sgd = SGD(lr=0.005,decay=1e-6, momentum=0.9,nesterov=True)\n",
    "model.compile(loss='mean_squared_error',optimizer=sgd, metrics=['accuracy']) \n",
    "model.fit(X_train3, Y_train3, epochs=50, batch_size=32) \n",
    "\n",
    "\n",
    "sgd = SGD(lr=0.0005,decay=1e-6, momentum=0.9,nesterov=True)\n",
    "model.compile(loss='mean_squared_error',optimizer=sgd, metrics=['accuracy'])\n",
    "model.fit(X_train3, Y_train3, epochs=50, batch_size=32) \n",
    "\n",
    "print(model.summary())"
   ]
  },
  {
   "cell_type": "markdown",
   "metadata": {},
   "source": [
    "# 5.2.4. Evaluation"
   ]
  },
  {
   "cell_type": "code",
   "execution_count": 737,
   "metadata": {},
   "outputs": [
    {
     "name": "stdout",
     "output_type": "stream",
     "text": [
      "Creating data:\n",
      "0\n",
      "10\n",
      "20\n",
      "30\n",
      "40\n",
      "50\n",
      "60\n",
      "70\n",
      "80\n",
      "90\n",
      "100\n",
      "110\n",
      "120\n",
      "130\n",
      "140\n",
      "150\n",
      "160\n",
      "170\n",
      "180\n",
      "190\n",
      "200\n",
      "210\n",
      "220\n",
      "230\n",
      "240\n",
      "250\n",
      "260\n",
      "270\n",
      "280\n",
      "290\n",
      "300/300 [==============================] - 2s 6ms/step\n",
      "The train loss is  [0.0008173069571057567, 0.9966666666666667]\n",
      "300/300 [==============================] - 1s 2ms/step\n",
      "The test loss is  [0.10243978977203369, 0.8]\n"
     ]
    }
   ],
   "source": [
    "[X_test3, Y_test3] = generate_test_set_classification()\n",
    "X_test3 = X_test3.reshape(X_test3.shape[0], 72,72,1)\n",
    "print(\"The train loss is \",model.evaluate(X_train3, Y_train3))\n",
    "print(\"The test loss is \",model.evaluate(X_test3, Y_test3))\n"
   ]
  },
  {
   "cell_type": "markdown",
   "metadata": {},
   "source": [
    "- We have a small value for the training error comparing to the test error \n",
    "=> This big difference shows us that our model is overfitting !!\n",
    "We can try to to increase the number of training samples"
   ]
  },
  {
   "cell_type": "markdown",
   "metadata": {},
   "source": [
    "# 5.3. Tests with bigger number of training samples"
   ]
  },
  {
   "cell_type": "markdown",
   "metadata": {},
   "source": [
    "# 5.3.1. Generating Training Data"
   ]
  },
  {
   "cell_type": "code",
   "execution_count": 738,
   "metadata": {},
   "outputs": [
    {
     "name": "stdout",
     "output_type": "stream",
     "text": [
      "Creating data:\n",
      "0\n",
      "10\n",
      "20\n",
      "30\n",
      "40\n",
      "50\n",
      "60\n",
      "70\n",
      "80\n",
      "90\n",
      "100\n",
      "110\n",
      "120\n",
      "130\n",
      "140\n",
      "150\n",
      "160\n",
      "170\n",
      "180\n",
      "190\n",
      "200\n",
      "210\n",
      "220\n",
      "230\n",
      "240\n",
      "250\n",
      "260\n",
      "270\n",
      "280\n",
      "290\n",
      "300\n",
      "310\n",
      "320\n",
      "330\n",
      "340\n",
      "350\n",
      "360\n",
      "370\n",
      "380\n",
      "390\n",
      "400\n",
      "410\n",
      "420\n",
      "430\n",
      "440\n",
      "450\n",
      "460\n",
      "470\n",
      "480\n",
      "490\n",
      "500\n",
      "510\n",
      "520\n",
      "530\n",
      "540\n",
      "550\n",
      "560\n",
      "570\n",
      "580\n",
      "590\n",
      "600\n",
      "610\n",
      "620\n",
      "630\n",
      "640\n",
      "650\n",
      "660\n",
      "670\n",
      "680\n",
      "690\n",
      "700\n",
      "710\n",
      "720\n",
      "730\n",
      "740\n",
      "750\n",
      "760\n",
      "770\n",
      "780\n",
      "790\n",
      "800\n",
      "810\n",
      "820\n",
      "830\n",
      "840\n",
      "850\n",
      "860\n",
      "870\n",
      "880\n",
      "890\n",
      "900\n",
      "910\n",
      "920\n",
      "930\n",
      "940\n",
      "950\n",
      "960\n",
      "970\n",
      "980\n",
      "990\n"
     ]
    }
   ],
   "source": [
    "[X_train4, Y_train4] = generate_dataset_classification(1000, 20, True)\n",
    "X_train5 = X_train4.reshape(X_train4.shape[0],72,72,1 )\n",
    "from keras.utils import np_utils\n",
    "Y_train5 = np_utils.to_categorical(Y_train4, 3)\n"
   ]
  },
  {
   "cell_type": "markdown",
   "metadata": {},
   "source": [
    "# 5.3.2. Creating the Model"
   ]
  },
  {
   "cell_type": "code",
   "execution_count": 739,
   "metadata": {},
   "outputs": [
    {
     "name": "stdout",
     "output_type": "stream",
     "text": [
      "(None, 3)\n"
     ]
    }
   ],
   "source": [
    "from keras.layers import Dense, Activation\n",
    "from keras.models import Sequential\n",
    "from keras.layers import Conv2D, MaxPooling2D\n",
    "from keras.layers import Flatten\n",
    "from keras.layers import Dropout\n",
    "from keras.layers.normalization import BatchNormalization\n",
    "from sklearn.model_selection import GridSearchCV\n",
    "from keras.wrappers.scikit_learn import KerasClassifier\n",
    "\n",
    "\n",
    "model = Sequential()\n",
    "nb_neurons = 16\n",
    "    \n",
    "model.add(Conv2D(nb_neurons, (5, 5),activation='relu',input_shape=(72, 72, 1)))\n",
    "model.add(MaxPooling2D(pool_size=(2, 2)))\n",
    "model.add(Dropout(0.5))\n",
    "    \n",
    "model.add(Flatten()) \n",
    "model.add(BatchNormalization())\n",
    "model.add(Dense(3))\n",
    "model.add(Activation('softmax'))\n",
    "\n",
    "print(model.output_shape)\n",
    "    "
   ]
  },
  {
   "cell_type": "markdown",
   "metadata": {},
   "source": [
    "# 5.3.3. Optimization"
   ]
  },
  {
   "cell_type": "code",
   "execution_count": 740,
   "metadata": {},
   "outputs": [
    {
     "name": "stdout",
     "output_type": "stream",
     "text": [
      "Epoch 1/40\n",
      "1000/1000 [==============================] - 16s 16ms/step - loss: 0.2042 - acc: 0.5270\n",
      "Epoch 2/40\n",
      "1000/1000 [==============================] - 4s 4ms/step - loss: 0.1247 - acc: 0.7360\n",
      "Epoch 3/40\n",
      "1000/1000 [==============================] - 4s 4ms/step - loss: 0.1030 - acc: 0.7940\n",
      "Epoch 4/40\n",
      "1000/1000 [==============================] - 4s 4ms/step - loss: 0.0827 - acc: 0.8300\n",
      "Epoch 5/40\n",
      "1000/1000 [==============================] - 4s 4ms/step - loss: 0.0732 - acc: 0.8600\n",
      "Epoch 6/40\n",
      "1000/1000 [==============================] - 4s 4ms/step - loss: 0.0624 - acc: 0.8910\n",
      "Epoch 7/40\n",
      "1000/1000 [==============================] - 4s 4ms/step - loss: 0.0543 - acc: 0.9040\n",
      "Epoch 8/40\n",
      "1000/1000 [==============================] - 4s 4ms/step - loss: 0.0574 - acc: 0.8920\n",
      "Epoch 9/40\n",
      "1000/1000 [==============================] - 4s 4ms/step - loss: 0.0397 - acc: 0.9310\n",
      "Epoch 10/40\n",
      "1000/1000 [==============================] - 4s 4ms/step - loss: 0.0420 - acc: 0.9290\n",
      "Epoch 11/40\n",
      "1000/1000 [==============================] - 5s 5ms/step - loss: 0.0377 - acc: 0.9330\n",
      "Epoch 12/40\n",
      "1000/1000 [==============================] - 4s 4ms/step - loss: 0.0432 - acc: 0.9300\n",
      "Epoch 13/40\n",
      "1000/1000 [==============================] - 4s 4ms/step - loss: 0.0423 - acc: 0.9250\n",
      "Epoch 14/40\n",
      "1000/1000 [==============================] - 5s 5ms/step - loss: 0.0381 - acc: 0.9350\n",
      "Epoch 15/40\n",
      "1000/1000 [==============================] - 4s 4ms/step - loss: 0.0344 - acc: 0.9360\n",
      "Epoch 16/40\n",
      "1000/1000 [==============================] - 4s 4ms/step - loss: 0.0277 - acc: 0.9580\n",
      "Epoch 17/40\n",
      "1000/1000 [==============================] - 4s 4ms/step - loss: 0.0383 - acc: 0.9210\n",
      "Epoch 18/40\n",
      "1000/1000 [==============================] - 4s 4ms/step - loss: 0.0310 - acc: 0.9490\n",
      "Epoch 19/40\n",
      "1000/1000 [==============================] - 4s 4ms/step - loss: 0.0297 - acc: 0.9550\n",
      "Epoch 20/40\n",
      "1000/1000 [==============================] - 4s 4ms/step - loss: 0.0223 - acc: 0.9630\n",
      "Epoch 21/40\n",
      "1000/1000 [==============================] - 4s 4ms/step - loss: 0.0207 - acc: 0.9620\n",
      "Epoch 22/40\n",
      "1000/1000 [==============================] - 4s 4ms/step - loss: 0.0223 - acc: 0.9600\n",
      "Epoch 23/40\n",
      "1000/1000 [==============================] - 4s 4ms/step - loss: 0.0235 - acc: 0.9620\n",
      "Epoch 24/40\n",
      "1000/1000 [==============================] - 4s 4ms/step - loss: 0.0233 - acc: 0.9600\n",
      "Epoch 25/40\n",
      "1000/1000 [==============================] - 4s 4ms/step - loss: 0.0235 - acc: 0.9680\n",
      "Epoch 26/40\n",
      "1000/1000 [==============================] - 4s 4ms/step - loss: 0.0215 - acc: 0.9660\n",
      "Epoch 27/40\n",
      "1000/1000 [==============================] - 4s 4ms/step - loss: 0.0186 - acc: 0.9770\n",
      "Epoch 28/40\n",
      "1000/1000 [==============================] - 4s 4ms/step - loss: 0.0163 - acc: 0.9740\n",
      "Epoch 29/40\n",
      "1000/1000 [==============================] - 4s 4ms/step - loss: 0.0173 - acc: 0.9750\n",
      "Epoch 30/40\n",
      "1000/1000 [==============================] - 4s 4ms/step - loss: 0.0167 - acc: 0.9730\n",
      "Epoch 31/40\n",
      "1000/1000 [==============================] - 4s 4ms/step - loss: 0.0157 - acc: 0.9750\n",
      "Epoch 32/40\n",
      "1000/1000 [==============================] - 4s 4ms/step - loss: 0.0131 - acc: 0.9810\n",
      "Epoch 33/40\n",
      "1000/1000 [==============================] - 4s 4ms/step - loss: 0.0131 - acc: 0.9800\n",
      "Epoch 34/40\n",
      "1000/1000 [==============================] - 4s 4ms/step - loss: 0.0117 - acc: 0.9800\n",
      "Epoch 35/40\n",
      "1000/1000 [==============================] - 4s 4ms/step - loss: 0.0127 - acc: 0.9800\n",
      "Epoch 36/40\n",
      "1000/1000 [==============================] - 4s 4ms/step - loss: 0.0135 - acc: 0.9820\n",
      "Epoch 37/40\n",
      "1000/1000 [==============================] - 4s 4ms/step - loss: 0.0182 - acc: 0.9760\n",
      "Epoch 38/40\n",
      "1000/1000 [==============================] - 4s 4ms/step - loss: 0.0199 - acc: 0.9720\n",
      "Epoch 39/40\n",
      "1000/1000 [==============================] - 4s 4ms/step - loss: 0.0155 - acc: 0.9750\n",
      "Epoch 40/40\n",
      "1000/1000 [==============================] - 4s 4ms/step - loss: 0.0122 - acc: 0.9830\n",
      "Epoch 1/40\n",
      "1000/1000 [==============================] - 7s 7ms/step - loss: 0.0115 - acc: 0.9850\n",
      "Epoch 2/40\n",
      "1000/1000 [==============================] - 4s 4ms/step - loss: 0.0104 - acc: 0.9890\n",
      "Epoch 3/40\n",
      "1000/1000 [==============================] - 4s 4ms/step - loss: 0.0110 - acc: 0.9810\n",
      "Epoch 4/40\n",
      "1000/1000 [==============================] - 5s 5ms/step - loss: 0.0103 - acc: 0.9860\n",
      "Epoch 5/40\n",
      "1000/1000 [==============================] - 4s 4ms/step - loss: 0.0096 - acc: 0.9820\n",
      "Epoch 6/40\n",
      "1000/1000 [==============================] - 4s 4ms/step - loss: 0.0082 - acc: 0.9870\n",
      "Epoch 7/40\n",
      "1000/1000 [==============================] - 5s 5ms/step - loss: 0.0091 - acc: 0.9860\n",
      "Epoch 8/40\n",
      "1000/1000 [==============================] - 5s 5ms/step - loss: 0.0085 - acc: 0.9880\n",
      "Epoch 9/40\n",
      "1000/1000 [==============================] - 4s 4ms/step - loss: 0.0092 - acc: 0.9870\n",
      "Epoch 10/40\n",
      "1000/1000 [==============================] - 4s 4ms/step - loss: 0.0086 - acc: 0.9830\n",
      "Epoch 11/40\n",
      "1000/1000 [==============================] - 4s 4ms/step - loss: 0.0081 - acc: 0.9900\n",
      "Epoch 12/40\n",
      "1000/1000 [==============================] - 4s 4ms/step - loss: 0.0088 - acc: 0.9910\n",
      "Epoch 13/40\n",
      "1000/1000 [==============================] - 4s 4ms/step - loss: 0.0077 - acc: 0.9900\n",
      "Epoch 14/40\n",
      "1000/1000 [==============================] - 4s 4ms/step - loss: 0.0076 - acc: 0.9890\n",
      "Epoch 15/40\n",
      "1000/1000 [==============================] - 4s 4ms/step - loss: 0.0073 - acc: 0.9910\n",
      "Epoch 16/40\n",
      "1000/1000 [==============================] - 4s 4ms/step - loss: 0.0084 - acc: 0.9880\n",
      "Epoch 17/40\n",
      "1000/1000 [==============================] - 4s 4ms/step - loss: 0.0070 - acc: 0.9880\n",
      "Epoch 18/40\n",
      "1000/1000 [==============================] - 4s 4ms/step - loss: 0.0072 - acc: 0.9910\n",
      "Epoch 19/40\n",
      "1000/1000 [==============================] - 4s 4ms/step - loss: 0.0074 - acc: 0.9910\n",
      "Epoch 20/40\n",
      "1000/1000 [==============================] - 4s 4ms/step - loss: 0.0067 - acc: 0.9930\n",
      "Epoch 21/40\n",
      "1000/1000 [==============================] - 4s 4ms/step - loss: 0.0060 - acc: 0.9940\n",
      "Epoch 22/40\n",
      "1000/1000 [==============================] - 4s 4ms/step - loss: 0.0068 - acc: 0.9910\n",
      "Epoch 23/40\n",
      "1000/1000 [==============================] - 5s 5ms/step - loss: 0.0059 - acc: 0.9890\n",
      "Epoch 24/40\n",
      "1000/1000 [==============================] - 4s 4ms/step - loss: 0.0087 - acc: 0.9870\n",
      "Epoch 25/40\n",
      "1000/1000 [==============================] - 4s 4ms/step - loss: 0.0062 - acc: 0.9940\n",
      "Epoch 26/40\n",
      "1000/1000 [==============================] - 4s 4ms/step - loss: 0.0061 - acc: 0.9940\n",
      "Epoch 27/40\n",
      "1000/1000 [==============================] - 4s 4ms/step - loss: 0.0087 - acc: 0.9890\n",
      "Epoch 28/40\n",
      "1000/1000 [==============================] - 4s 4ms/step - loss: 0.0071 - acc: 0.9920\n",
      "Epoch 29/40\n",
      "1000/1000 [==============================] - 4s 4ms/step - loss: 0.0061 - acc: 0.9920\n",
      "Epoch 30/40\n",
      "1000/1000 [==============================] - 4s 4ms/step - loss: 0.0086 - acc: 0.9900\n",
      "Epoch 31/40\n",
      "1000/1000 [==============================] - 4s 4ms/step - loss: 0.0065 - acc: 0.9920\n",
      "Epoch 32/40\n",
      "1000/1000 [==============================] - 4s 4ms/step - loss: 0.0080 - acc: 0.9870\n",
      "Epoch 33/40\n",
      "1000/1000 [==============================] - 4s 4ms/step - loss: 0.0073 - acc: 0.9900\n",
      "Epoch 34/40\n",
      "1000/1000 [==============================] - 4s 4ms/step - loss: 0.0074 - acc: 0.9880\n",
      "Epoch 35/40\n",
      "1000/1000 [==============================] - 4s 4ms/step - loss: 0.0061 - acc: 0.9960\n",
      "Epoch 36/40\n",
      "1000/1000 [==============================] - 4s 4ms/step - loss: 0.0061 - acc: 0.9940\n",
      "Epoch 37/40\n",
      "1000/1000 [==============================] - 4s 4ms/step - loss: 0.0078 - acc: 0.9900\n",
      "Epoch 38/40\n",
      "1000/1000 [==============================] - 4s 4ms/step - loss: 0.0061 - acc: 0.9960\n",
      "Epoch 39/40\n",
      "1000/1000 [==============================] - 4s 4ms/step - loss: 0.0061 - acc: 0.9940\n",
      "Epoch 40/40\n",
      "1000/1000 [==============================] - 4s 4ms/step - loss: 0.0088 - acc: 0.9860\n",
      "_________________________________________________________________\n",
      "Layer (type)                 Output Shape              Param #   \n",
      "=================================================================\n",
      "conv2d_21 (Conv2D)           (None, 68, 68, 16)        416       \n",
      "_________________________________________________________________\n",
      "max_pooling2d_19 (MaxPooling (None, 34, 34, 16)        0         \n",
      "_________________________________________________________________\n",
      "dropout_19 (Dropout)         (None, 34, 34, 16)        0         \n",
      "_________________________________________________________________\n",
      "flatten_15 (Flatten)         (None, 18496)             0         \n",
      "_________________________________________________________________\n",
      "batch_normalization_27 (Batc (None, 18496)             73984     \n",
      "_________________________________________________________________\n",
      "dense_125 (Dense)            (None, 3)                 55491     \n"
     ]
    },
    {
     "name": "stdout",
     "output_type": "stream",
     "text": [
      "_________________________________________________________________\n",
      "activation_133 (Activation)  (None, 3)                 0         \n",
      "=================================================================\n",
      "Total params: 129,891\n",
      "Trainable params: 92,899\n",
      "Non-trainable params: 36,992\n",
      "_________________________________________________________________\n",
      "None\n"
     ]
    }
   ],
   "source": [
    "\n",
    "\n",
    "sgd = SGD(lr=0.005,decay=1e-6, momentum=0.9,nesterov=True)\n",
    "model.compile(loss='mean_squared_error',optimizer=sgd, metrics=['accuracy']) \n",
    "model.fit(X_train5, Y_train5, epochs=40, batch_size=32) \n",
    "\n",
    "\n",
    "sgd = SGD(lr=0.001,decay=1e-6, momentum=0.9,nesterov=True)\n",
    "model.compile(loss='mean_squared_error',optimizer=sgd, metrics=['accuracy'])\n",
    "model.fit(X_train5, Y_train5, epochs=40, batch_size=32) \n",
    "\n",
    "print(model.summary())"
   ]
  },
  {
   "cell_type": "markdown",
   "metadata": {},
   "source": [
    "# 5.3.4. Evaluation"
   ]
  },
  {
   "cell_type": "code",
   "execution_count": 741,
   "metadata": {},
   "outputs": [
    {
     "name": "stdout",
     "output_type": "stream",
     "text": [
      "Creating data:\n",
      "0\n",
      "10\n",
      "20\n",
      "30\n",
      "40\n",
      "50\n",
      "60\n",
      "70\n",
      "80\n",
      "90\n",
      "100\n",
      "110\n",
      "120\n",
      "130\n",
      "140\n",
      "150\n",
      "160\n",
      "170\n",
      "180\n",
      "190\n",
      "200\n",
      "210\n",
      "220\n",
      "230\n",
      "240\n",
      "250\n",
      "260\n",
      "270\n",
      "280\n",
      "290\n",
      "1000/1000 [==============================] - 5s 5ms/step\n",
      "300/300 [==============================] - 1s 2ms/step\n",
      "The train loss=  [0.000937013364280574, 0.999]\n",
      "The test  loss=  [0.042508390247821805, 0.923333334128062]\n"
     ]
    }
   ],
   "source": [
    "\n",
    "\n",
    "[X_test5, Y_test5] = generate_test_set_classification()\n",
    "\n",
    "X_test5 = X_test5.reshape(X_test5.shape[0], 72,72,1)\n",
    "score_train= model.evaluate(X_train5, Y_train5)\n",
    "score_test= model.evaluate(X_test5, Y_test5)\n",
    "print(\"The train loss= \",score_train)\n",
    "print(\"The test  loss= \",score_test)\n"
   ]
  },
  {
   "cell_type": "markdown",
   "metadata": {},
   "source": [
    "- We have better results with a bigger training set \n",
    "- Increasing the number of samples helped us to solve the overfitting problem "
   ]
  },
  {
   "cell_type": "markdown",
   "metadata": {},
   "source": [
    "# 6.A regression Problem\n"
   ]
  },
  {
   "cell_type": "markdown",
   "metadata": {},
   "source": [
    "- For this part, we will continue to work with the same number of samples because it gives us better results "
   ]
  },
  {
   "cell_type": "markdown",
   "metadata": {},
   "source": [
    "# 6.1. Generating data"
   ]
  },
  {
   "cell_type": "code",
   "execution_count": 742,
   "metadata": {},
   "outputs": [
    {
     "name": "stdout",
     "output_type": "stream",
     "text": [
      "Creating data:\n"
     ]
    }
   ],
   "source": [
    "[X_train6, Y_train6] = generate_dataset_regression(1000, 20)\n"
   ]
  },
  {
   "cell_type": "code",
   "execution_count": 743,
   "metadata": {},
   "outputs": [
    {
     "data": {
      "image/png": "[encoded data removed]",
      "text/plain": [
       "<Figure size 360x360 with 1 Axes>"
      ]
     },
     "metadata": {
      "needs_background": "light"
     },
     "output_type": "display_data"
    }
   ],
   "source": [
    "visualize_prediction(X_train6[0], Y_train6[0])\n"
   ]
  },
  {
   "cell_type": "markdown",
   "metadata": {},
   "source": [
    "# 6.2. Reformating the input"
   ]
  },
  {
   "cell_type": "code",
   "execution_count": 744,
   "metadata": {},
   "outputs": [],
   "source": [
    "X_train7 = X_train6.reshape(X_train6.shape[0], 72,72,1)\n",
    "X_train8=X_train7[:700,:,:,:]\n",
    "X_val=X_train7[700:,:,:,:]"
   ]
  },
  {
   "cell_type": "markdown",
   "metadata": {},
   "source": [
    "# 6.3. Reformating the  Ouput"
   ]
  },
  {
   "cell_type": "code",
   "execution_count": 771,
   "metadata": {},
   "outputs": [
    {
     "name": "stdout",
     "output_type": "stream",
     "text": [
      "(700, 6)\n"
     ]
    }
   ],
   "source": [
    "Y_train7 = Y_train6.reshape(Y_train6.shape[0], 3,2)\n",
    "Y_train7 =np.array([i[i[:,0].argsort()] for i in Y_train7]) \n",
    "Y_train7 = Y_train7.reshape(Y_train7.shape[0], 6,)\n",
    "Y_train8=Y_train7[:700,:]\n",
    "Y_val=Y_train7[700:,:]\n",
    "print(Y_train8.shape)"
   ]
  },
  {
   "cell_type": "markdown",
   "metadata": {},
   "source": [
    "# 6.3. Creating the model"
   ]
  },
  {
   "cell_type": "code",
   "execution_count": 755,
   "metadata": {},
   "outputs": [],
   "source": [
    "from keras.layers import Dropout\n",
    "from keras.layers.normalization import BatchNormalization\n",
    "from sklearn.model_selection import GridSearchCV\n",
    "from keras.wrappers.scikit_learn import KerasClassifier\n",
    "import itertools\n",
    "from keras.optimizers import Adam,SGD\n",
    "\n",
    "model = Sequential()\n",
    "nb_neurons = 16\n",
    "    \n",
    "model.add(Conv2D(nb_neurons, (5, 5),input_shape=(72, 72, 1)))\n",
    "model.add(BatchNormalization())\n",
    "model.add(Activation('relu'))\n",
    "    \n",
    "model.add(Conv2D(nb_neurons, (5, 5)))\n",
    "model.add(MaxPooling2D(pool_size=(2, 2)))\n",
    "model.add(BatchNormalization())\n",
    "model.add(Dropout(0.5))\n",
    "model.add(Activation('relu'))\n",
    "    \n",
    "model.add(Conv2D(nb_neurons, (5, 5)))\n",
    "model.add(MaxPooling2D(pool_size=(2, 2)))\n",
    "model.add(BatchNormalization())\n",
    "model.add(Dropout(0.5))\n",
    "model.add(Activation('relu'))\n",
    "    \n",
    "model.add(Conv2D(nb_neurons, (5, 5)))\n",
    "model.add(MaxPooling2D(pool_size=(2, 2)))\n",
    "model.add(Dropout(0.25))\n",
    "model.add(BatchNormalization())\n",
    "model.add(Activation('relu'))\n",
    "    \n",
    "    \n",
    "model.add(Flatten()) \n",
    "model.add(Dense(256))\n",
    "model.add(BatchNormalization())\n",
    "model.add(Activation('relu'))\n",
    "\n",
    "\n",
    "model.add(Dense(128))\n",
    "model.add(BatchNormalization())\n",
    "model.add(Activation('relu'))\n",
    "   \n",
    "model.add(Dense(6))\n",
    "model.add(BatchNormalization())\n",
    "model.add(Activation('linear'))\n",
    "\n",
    "    "
   ]
  },
  {
   "cell_type": "markdown",
   "metadata": {},
   "source": [
    "# 6.4. Optimization"
   ]
  },
  {
   "cell_type": "markdown",
   "metadata": {},
   "source": [
    "- I tried here different values for the learning rates/epochs.."
   ]
  },
  {
   "cell_type": "code",
   "execution_count": 765,
   "metadata": {
    "scrolled": false
   },
   "outputs": [
    {
     "name": "stdout",
     "output_type": "stream",
     "text": [
      "Train on 700 samples, validate on 300 samples\n",
      "Epoch 1/50\n",
      "700/700 [==============================] - 62s 89ms/step - loss: 0.0229 - acc: 0.6486 - val_loss: 0.0561 - val_acc: 0.4333\n",
      "Epoch 2/50\n",
      "700/700 [==============================] - 23s 33ms/step - loss: 0.0227 - acc: 0.6786 - val_loss: 0.0548 - val_acc: 0.4367\n",
      "Epoch 3/50\n",
      "700/700 [==============================] - 23s 33ms/step - loss: 0.0226 - acc: 0.6757 - val_loss: 0.0546 - val_acc: 0.4533\n",
      "Epoch 4/50\n",
      "700/700 [==============================] - 24s 34ms/step - loss: 0.0217 - acc: 0.6700 - val_loss: 0.0559 - val_acc: 0.4667\n",
      "Epoch 5/50\n",
      "700/700 [==============================] - 23s 33ms/step - loss: 0.0218 - acc: 0.6657 - val_loss: 0.0563 - val_acc: 0.4600\n",
      "Epoch 6/50\n",
      "700/700 [==============================] - 24s 34ms/step - loss: 0.0214 - acc: 0.6600 - val_loss: 0.0565 - val_acc: 0.4500\n",
      "Epoch 7/50\n",
      "700/700 [==============================] - 23s 34ms/step - loss: 0.0209 - acc: 0.6729 - val_loss: 0.0556 - val_acc: 0.4533\n",
      "Epoch 8/50\n",
      "700/700 [==============================] - 24s 34ms/step - loss: 0.0218 - acc: 0.6657 - val_loss: 0.0534 - val_acc: 0.4333\n",
      "Epoch 9/50\n",
      "700/700 [==============================] - 23s 33ms/step - loss: 0.0214 - acc: 0.6600 - val_loss: 0.0543 - val_acc: 0.4300\n",
      "Epoch 10/50\n",
      "700/700 [==============================] - 24s 34ms/step - loss: 0.0218 - acc: 0.6529 - val_loss: 0.0539 - val_acc: 0.4467\n",
      "Epoch 11/50\n",
      "700/700 [==============================] - 23s 33ms/step - loss: 0.0214 - acc: 0.6900 - val_loss: 0.0539 - val_acc: 0.4667\n",
      "Epoch 12/50\n",
      "700/700 [==============================] - 24s 34ms/step - loss: 0.0214 - acc: 0.6686 - val_loss: 0.0554 - val_acc: 0.4200\n",
      "Epoch 13/50\n",
      "700/700 [==============================] - 23s 33ms/step - loss: 0.0218 - acc: 0.6729 - val_loss: 0.0554 - val_acc: 0.4367\n",
      "Epoch 14/50\n",
      "700/700 [==============================] - 23s 33ms/step - loss: 0.0215 - acc: 0.6671 - val_loss: 0.0548 - val_acc: 0.4700\n",
      "Epoch 15/50\n",
      "700/700 [==============================] - 24s 35ms/step - loss: 0.0210 - acc: 0.6671 - val_loss: 0.0560 - val_acc: 0.4600\n",
      "Epoch 16/50\n",
      "700/700 [==============================] - 24s 34ms/step - loss: 0.0205 - acc: 0.6757 - val_loss: 0.0581 - val_acc: 0.4467\n",
      "Epoch 17/50\n",
      "700/700 [==============================] - 24s 35ms/step - loss: 0.0205 - acc: 0.6700 - val_loss: 0.0563 - val_acc: 0.4667\n",
      "Epoch 18/50\n",
      "700/700 [==============================] - 24s 34ms/step - loss: 0.0209 - acc: 0.6771 - val_loss: 0.0560 - val_acc: 0.4800\n",
      "Epoch 19/50\n",
      "700/700 [==============================] - 24s 35ms/step - loss: 0.0204 - acc: 0.6857 - val_loss: 0.0549 - val_acc: 0.4633\n",
      "Epoch 20/50\n",
      "700/700 [==============================] - 23s 33ms/step - loss: 0.0197 - acc: 0.6900 - val_loss: 0.0549 - val_acc: 0.5033\n",
      "Epoch 21/50\n",
      "700/700 [==============================] - 23s 34ms/step - loss: 0.0210 - acc: 0.6686 - val_loss: 0.0552 - val_acc: 0.4833\n",
      "Epoch 22/50\n",
      "700/700 [==============================] - 23s 32ms/step - loss: 0.0211 - acc: 0.6629 - val_loss: 0.0538 - val_acc: 0.5000\n",
      "Epoch 23/50\n",
      "700/700 [==============================] - 23s 33ms/step - loss: 0.0206 - acc: 0.6886 - val_loss: 0.0521 - val_acc: 0.5133\n",
      "Epoch 24/50\n",
      "700/700 [==============================] - 24s 34ms/step - loss: 0.0194 - acc: 0.7014 - val_loss: 0.0531 - val_acc: 0.4967\n",
      "Epoch 25/50\n",
      "700/700 [==============================] - 24s 34ms/step - loss: 0.0205 - acc: 0.6771 - val_loss: 0.0513 - val_acc: 0.5000\n",
      "Epoch 26/50\n",
      "700/700 [==============================] - 24s 34ms/step - loss: 0.0197 - acc: 0.6829 - val_loss: 0.0517 - val_acc: 0.5233\n",
      "Epoch 27/50\n",
      "700/700 [==============================] - 24s 34ms/step - loss: 0.0197 - acc: 0.6700 - val_loss: 0.0509 - val_acc: 0.5400\n",
      "Epoch 28/50\n",
      "700/700 [==============================] - 23s 33ms/step - loss: 0.0203 - acc: 0.6786 - val_loss: 0.0497 - val_acc: 0.5233\n",
      "Epoch 29/50\n",
      "700/700 [==============================] - 24s 34ms/step - loss: 0.0196 - acc: 0.6700 - val_loss: 0.0500 - val_acc: 0.5233\n",
      "Epoch 30/50\n",
      "700/700 [==============================] - 24s 34ms/step - loss: 0.0201 - acc: 0.6729 - val_loss: 0.0525 - val_acc: 0.5367\n",
      "Epoch 31/50\n",
      "700/700 [==============================] - 24s 35ms/step - loss: 0.0200 - acc: 0.7029 - val_loss: 0.0526 - val_acc: 0.5333\n",
      "Epoch 32/50\n",
      "700/700 [==============================] - 23s 33ms/step - loss: 0.0187 - acc: 0.6814 - val_loss: 0.0521 - val_acc: 0.5467\n",
      "Epoch 33/50\n",
      "700/700 [==============================] - 24s 34ms/step - loss: 0.0199 - acc: 0.6900 - val_loss: 0.0522 - val_acc: 0.5467\n",
      "Epoch 34/50\n",
      "700/700 [==============================] - 24s 34ms/step - loss: 0.0187 - acc: 0.6886 - val_loss: 0.0512 - val_acc: 0.5400\n",
      "Epoch 35/50\n",
      "700/700 [==============================] - 23s 33ms/step - loss: 0.0186 - acc: 0.6857 - val_loss: 0.0518 - val_acc: 0.5467\n",
      "Epoch 36/50\n",
      "700/700 [==============================] - 23s 33ms/step - loss: 0.0184 - acc: 0.7043 - val_loss: 0.0538 - val_acc: 0.5433\n",
      "Epoch 37/50\n",
      "700/700 [==============================] - 24s 34ms/step - loss: 0.0192 - acc: 0.7000 - val_loss: 0.0511 - val_acc: 0.5567\n",
      "Epoch 38/50\n",
      "700/700 [==============================] - 26s 37ms/step - loss: 0.0189 - acc: 0.6743 - val_loss: 0.0521 - val_acc: 0.5400\n",
      "Epoch 39/50\n",
      "700/700 [==============================] - 26s 37ms/step - loss: 0.0196 - acc: 0.6657 - val_loss: 0.0514 - val_acc: 0.5567\n",
      "Epoch 40/50\n",
      "700/700 [==============================] - 26s 37ms/step - loss: 0.0184 - acc: 0.7029 - val_loss: 0.0504 - val_acc: 0.5533\n",
      "Epoch 41/50\n",
      "700/700 [==============================] - 26s 38ms/step - loss: 0.0188 - acc: 0.6957 - val_loss: 0.0515 - val_acc: 0.5500\n",
      "Epoch 42/50\n",
      "700/700 [==============================] - 27s 39ms/step - loss: 0.0181 - acc: 0.6900 - val_loss: 0.0505 - val_acc: 0.5167\n",
      "Epoch 43/50\n",
      "700/700 [==============================] - 25s 36ms/step - loss: 0.0188 - acc: 0.7043 - val_loss: 0.0495 - val_acc: 0.5400\n",
      "Epoch 44/50\n",
      "700/700 [==============================] - 24s 34ms/step - loss: 0.0194 - acc: 0.6643 - val_loss: 0.0499 - val_acc: 0.5500\n",
      "Epoch 45/50\n",
      "700/700 [==============================] - 24s 34ms/step - loss: 0.0189 - acc: 0.6843 - val_loss: 0.0518 - val_acc: 0.5433\n",
      "Epoch 46/50\n",
      "700/700 [==============================] - 24s 34ms/step - loss: 0.0185 - acc: 0.6814 - val_loss: 0.0522 - val_acc: 0.5500\n",
      "Epoch 47/50\n",
      "700/700 [==============================] - 23s 33ms/step - loss: 0.0178 - acc: 0.6914 - val_loss: 0.0502 - val_acc: 0.5567\n",
      "Epoch 48/50\n",
      "700/700 [==============================] - 21s 31ms/step - loss: 0.0183 - acc: 0.7100 - val_loss: 0.0504 - val_acc: 0.5100\n",
      "Epoch 49/50\n",
      "700/700 [==============================] - 20s 28ms/step - loss: 0.0178 - acc: 0.6971 - val_loss: 0.0504 - val_acc: 0.5533\n",
      "Epoch 50/50\n",
      "700/700 [==============================] - 20s 29ms/step - loss: 0.0185 - acc: 0.7057 - val_loss: 0.0498 - val_acc: 0.5700\n",
      "Train on 700 samples, validate on 300 samples\n",
      "Epoch 1/10\n",
      "700/700 [==============================] - 76s 109ms/step - loss: 0.0262 - acc: 0.6414 - val_loss: 2.8812 - val_acc: 0.1867\n",
      "Epoch 2/10\n",
      "700/700 [==============================] - 26s 37ms/step - loss: 0.0186 - acc: 0.7071 - val_loss: 0.6645 - val_acc: 0.4467\n",
      "Epoch 3/10\n",
      "700/700 [==============================] - 24s 34ms/step - loss: 0.0165 - acc: 0.7200 - val_loss: 0.7405 - val_acc: 0.2967\n",
      "Epoch 4/10\n",
      "700/700 [==============================] - 24s 34ms/step - loss: 0.0143 - acc: 0.7300 - val_loss: 0.1482 - val_acc: 0.5267\n",
      "Epoch 5/10\n",
      "700/700 [==============================] - 23s 33ms/step - loss: 0.0142 - acc: 0.7329 - val_loss: 0.3784 - val_acc: 0.2967\n",
      "Epoch 6/10\n",
      "700/700 [==============================] - 24s 34ms/step - loss: 0.0130 - acc: 0.7486 - val_loss: 0.0652 - val_acc: 0.5433\n",
      "Epoch 7/10\n",
      "700/700 [==============================] - 23s 33ms/step - loss: 0.0120 - acc: 0.7029 - val_loss: 0.1297 - val_acc: 0.5467\n",
      "Epoch 8/10\n",
      "700/700 [==============================] - 24s 35ms/step - loss: 0.0122 - acc: 0.7343 - val_loss: 0.1481 - val_acc: 0.4767\n",
      "Epoch 9/10\n",
      "700/700 [==============================] - 24s 35ms/step - loss: 0.0109 - acc: 0.7329 - val_loss: 0.0898 - val_acc: 0.5733\n",
      "Epoch 10/10\n",
      "700/700 [==============================] - 25s 35ms/step - loss: 0.0117 - acc: 0.7471 - val_loss: 0.0309 - val_acc: 0.6300\n",
      "Train on 700 samples, validate on 300 samples\n",
      "Epoch 1/10\n"
     ]
    },
    {
     "name": "stdout",
     "output_type": "stream",
     "text": [
      "700/700 [==============================] - 45s 64ms/step - loss: 0.0097 - acc: 0.7700 - val_loss: 0.0166 - val_acc: 0.7200\n",
      "Epoch 2/10\n",
      "700/700 [==============================] - 25s 35ms/step - loss: 0.0103 - acc: 0.7457 - val_loss: 0.0142 - val_acc: 0.7500\n",
      "Epoch 3/10\n",
      "700/700 [==============================] - 25s 35ms/step - loss: 0.0098 - acc: 0.7871 - val_loss: 0.0135 - val_acc: 0.7700\n",
      "Epoch 4/10\n",
      "700/700 [==============================] - 24s 34ms/step - loss: 0.0094 - acc: 0.7814 - val_loss: 0.0134 - val_acc: 0.7867\n",
      "Epoch 5/10\n",
      "700/700 [==============================] - 24s 35ms/step - loss: 0.0102 - acc: 0.7686 - val_loss: 0.0146 - val_acc: 0.7733\n",
      "Epoch 6/10\n",
      "700/700 [==============================] - 22s 32ms/step - loss: 0.0102 - acc: 0.7786 - val_loss: 0.0161 - val_acc: 0.7533\n",
      "Epoch 7/10\n",
      "700/700 [==============================] - 26s 37ms/step - loss: 0.0098 - acc: 0.7586 - val_loss: 0.0171 - val_acc: 0.7300\n",
      "Epoch 8/10\n",
      "700/700 [==============================] - 24s 34ms/step - loss: 0.0100 - acc: 0.7714 - val_loss: 0.0175 - val_acc: 0.7233\n",
      "Epoch 9/10\n",
      "700/700 [==============================] - 24s 35ms/step - loss: 0.0103 - acc: 0.7800 - val_loss: 0.0184 - val_acc: 0.7100\n",
      "Epoch 10/10\n",
      "700/700 [==============================] - 25s 35ms/step - loss: 0.0100 - acc: 0.7829 - val_loss: 0.0178 - val_acc: 0.7167\n",
      "_________________________________________________________________\n",
      "Layer (type)                 Output Shape              Param #   \n",
      "=================================================================\n",
      "conv2d_26 (Conv2D)           (None, 68, 68, 16)        416       \n",
      "_________________________________________________________________\n",
      "batch_normalization_35 (Batc (None, 68, 68, 16)        64        \n",
      "_________________________________________________________________\n",
      "activation_141 (Activation)  (None, 68, 68, 16)        0         \n",
      "_________________________________________________________________\n",
      "conv2d_27 (Conv2D)           (None, 64, 64, 16)        6416      \n",
      "_________________________________________________________________\n",
      "max_pooling2d_23 (MaxPooling (None, 32, 32, 16)        0         \n",
      "_________________________________________________________________\n",
      "batch_normalization_36 (Batc (None, 32, 32, 16)        64        \n",
      "_________________________________________________________________\n",
      "dropout_23 (Dropout)         (None, 32, 32, 16)        0         \n",
      "_________________________________________________________________\n",
      "activation_142 (Activation)  (None, 32, 32, 16)        0         \n",
      "_________________________________________________________________\n",
      "conv2d_28 (Conv2D)           (None, 28, 28, 16)        6416      \n",
      "_________________________________________________________________\n",
      "max_pooling2d_24 (MaxPooling (None, 14, 14, 16)        0         \n",
      "_________________________________________________________________\n",
      "batch_normalization_37 (Batc (None, 14, 14, 16)        64        \n",
      "_________________________________________________________________\n",
      "dropout_24 (Dropout)         (None, 14, 14, 16)        0         \n",
      "_________________________________________________________________\n",
      "activation_143 (Activation)  (None, 14, 14, 16)        0         \n",
      "_________________________________________________________________\n",
      "conv2d_29 (Conv2D)           (None, 10, 10, 16)        6416      \n",
      "_________________________________________________________________\n",
      "max_pooling2d_25 (MaxPooling (None, 5, 5, 16)          0         \n",
      "_________________________________________________________________\n",
      "dropout_25 (Dropout)         (None, 5, 5, 16)          0         \n",
      "_________________________________________________________________\n",
      "batch_normalization_38 (Batc (None, 5, 5, 16)          64        \n",
      "_________________________________________________________________\n",
      "activation_144 (Activation)  (None, 5, 5, 16)          0         \n",
      "_________________________________________________________________\n",
      "flatten_17 (Flatten)         (None, 400)               0         \n",
      "_________________________________________________________________\n",
      "dense_129 (Dense)            (None, 256)               102656    \n",
      "_________________________________________________________________\n",
      "batch_normalization_39 (Batc (None, 256)               1024      \n",
      "_________________________________________________________________\n",
      "activation_145 (Activation)  (None, 256)               0         \n",
      "_________________________________________________________________\n",
      "dense_130 (Dense)            (None, 128)               32896     \n",
      "_________________________________________________________________\n",
      "batch_normalization_40 (Batc (None, 128)               512       \n",
      "_________________________________________________________________\n",
      "activation_146 (Activation)  (None, 128)               0         \n",
      "_________________________________________________________________\n",
      "dense_131 (Dense)            (None, 6)                 774       \n",
      "_________________________________________________________________\n",
      "batch_normalization_41 (Batc (None, 6)                 24        \n",
      "_________________________________________________________________\n",
      "activation_147 (Activation)  (None, 6)                 0         \n",
      "=================================================================\n",
      "Total params: 157,806\n",
      "Trainable params: 156,898\n",
      "Non-trainable params: 908\n",
      "_________________________________________________________________\n",
      "None\n"
     ]
    }
   ],
   "source": [
    "lrt=0.01\n",
    "sgd = SGD(lr=lrt,decay=1e-6, momentum=0.9,nesterov=True)\n",
    "model.compile(loss='mean_squared_error',optimizer=sgd, metrics=['accuracy']) \n",
    "model.fit(X_train8, Y_train8, epochs=50, batch_size=32,validation_data= (X_val, Y_val)) \n",
    "\n",
    "lrt=0.005\n",
    "adam=Adam(lr=lrt)\n",
    "model.compile(loss='mean_squared_error', optimizer=adam, metrics=['accuracy'])\n",
    "model.fit(X_train8, Y_train8, epochs=10, batch_size=32,validation_data= (X_val, Y_val)) \n",
    "\n",
    "lrt=0.001\n",
    "sgd = SGD(lr=lrt,decay=1e-6, momentum=0.9,nesterov=True)\n",
    "model.compile(loss='mean_squared_error',optimizer=sgd, metrics=['accuracy']) \n",
    "model.fit(X_train8, Y_train8, epochs=10, batch_size=32,validation_data= (X_val, Y_val)) \n",
    "\n",
    "print(model.summary())"
   ]
  },
  {
   "cell_type": "markdown",
   "metadata": {},
   "source": [
    "# 6.5. Evaluation"
   ]
  },
  {
   "cell_type": "code",
   "execution_count": 768,
   "metadata": {},
   "outputs": [
    {
     "name": "stdout",
     "output_type": "stream",
     "text": [
      "Creating data:\n",
      "The test loss is  0.017193557081695506\n"
     ]
    }
   ],
   "source": [
    "[X_test8,Y_test8]=generate_test_set_regression()\n",
    "\n",
    "X_test8=X_test8.reshape(X_test8.shape[0], 72,72,1)\n",
    "Y_test8 = Y_test8.reshape(Y_test8.shape[0], 3,2)\n",
    "Y_test8 =np.array([i[i[:,0].argsort()] for i in Y_test8]) \n",
    "Y_test8 = Y_test8.reshape(Y_test8.shape[0], 6,)\n",
    "\n",
    "\n",
    "y_pred=model.predict(X_test8)\n",
    "\n",
    "score= mean_squared_error(y_pred.flatten(), Y_test8.flatten())\n",
    "\n",
    "print(\"The test loss is \",score)"
   ]
  },
  {
   "cell_type": "markdown",
   "metadata": {},
   "source": [
    "# 6.6. Evaluation"
   ]
  },
  {
   "cell_type": "code",
   "execution_count": 776,
   "metadata": {},
   "outputs": [
    {
     "data": {
      "image/png": "[encoded data removed]",
      "text/plain": [
       "<Figure size 360x360 with 1 Axes>"
      ]
     },
     "metadata": {
      "needs_background": "light"
     },
     "output_type": "display_data"
    }
   ],
   "source": [
    "visualize_prediction(X_test8[5], y_pred[5])"
   ]
  },
  {
   "cell_type": "markdown",
   "metadata": {},
   "source": [
    "- The prediction results obtained are relatively good.\n",
    "- he model predicts well on some input images and may give insufficient results for others."
   ]
  },
  {
   "cell_type": "markdown",
   "metadata": {},
   "source": [
    "# 7. Image Denoising"
   ]
  },
  {
   "cell_type": "markdown",
   "metadata": {},
   "source": [
    "# 7.1. Generating the pairs of images"
   ]
  },
  {
   "cell_type": "raw",
   "metadata": {},
   "source": [
    "For triangles :"
   ]
  },
  {
   "cell_type": "code",
   "execution_count": 783,
   "metadata": {},
   "outputs": [],
   "source": [
    "def generate_a_triangle_with_noise(noise, free_location=True):\n",
    "    figsize = 1.0\n",
    "    if free_location:\n",
    "        U = np.random.random(3)\n",
    "        V = np.random.random(3)\n",
    "    else:\n",
    "        size = (0.3 + 0.7 * np.random.random())*figsize/2\n",
    "        middle = figsize/2\n",
    "        U = (middle, middle+size, middle-size)\n",
    "        V = (middle+size, middle-size, middle-size)\n",
    "    imdata = generate_a_drawing(figsize, U, V, 0.0)\n",
    "    imdata_noise =  generate_a_drawing(figsize, U, V, noise)\n",
    "    return [imdata,imdata_noise]\n",
    "\n",
    "def generate_dataset_with_noise(nb_samples,noise_d, noise=0.0):\n",
    "    im_size = generate_a_triangle()[0].shape[0]\n",
    "    X = np.zeros([nb_samples,im_size])\n",
    "    Y = np.zeros([nb_samples, im_size])\n",
    "    print('Creating data:')\n",
    "    for i in range(nb_samples):\n",
    "        #if i % 10 == 0:\n",
    "        #    print(i)\n",
    "        [X[i], Y[i]] = generate_a_triangle_with_noise(noise_d, True)\n",
    "    X = (X + noise) / (255 + 2 * noise)\n",
    "    return [X, Y]\n",
    "\n"
   ]
  },
  {
   "cell_type": "markdown",
   "metadata": {},
   "source": [
    "# 7.2. Generating the data"
   ]
  },
  {
   "cell_type": "code",
   "execution_count": 797,
   "metadata": {},
   "outputs": [
    {
     "name": "stdout",
     "output_type": "stream",
     "text": [
      "Creating data:\n"
     ]
    }
   ],
   "source": [
    "[X_train_noise_,Y_train_noise_] =generate_dataset_with_noise(300,20)\n",
    "X_train_noise_=X_train_noise_.reshape(X_train_noise_.shape[0] ,72,72,1 )\n",
    "Y_train_noise_=Y_train_noise_.reshape(X_train_noise_.shape[0] ,72,72,1 )"
   ]
  },
  {
   "cell_type": "code",
   "execution_count": 798,
   "metadata": {},
   "outputs": [],
   "source": [
    "X_train_noise=X_train_noise_[:200,:,:,:]\n",
    "Y_train_noise=Y_train_noise_[:200,:,:,:]\n",
    "\n",
    "X_train_val=X_train_noise_[200:,:,:,:]\n",
    "Y_train_val=Y_train_noise_[200:,:,:,:]"
   ]
  },
  {
   "cell_type": "markdown",
   "metadata": {},
   "source": [
    "# 7.3. The hourglass network for denoising"
   ]
  },
  {
   "cell_type": "raw",
   "metadata": {},
   "source": [
    "-The hourglass network for denoising  consists of a convolutional autoencoder. The goal is to train the autoencoder to map noisy digits images to clean digits images"
   ]
  },
  {
   "cell_type": "code",
   "execution_count": 800,
   "metadata": {},
   "outputs": [],
   "source": [
    "from keras.layers import Input, Dense, Conv2D, MaxPooling2D, UpSampling2D, Dropout\n",
    "from keras.models import Model\n",
    "from keras import backend as K\n",
    "from keras.layers.normalization import BatchNormalization\n",
    "\n",
    "input_img = Input(shape=(72, 72, 1))  \n",
    "\n",
    "x = Conv2D(32, (3, 3), activation='relu', padding='same')(input_img)\n",
    "x = MaxPooling2D((2, 2), padding='same')(x)\n",
    "x = Dropout(0.25)(x)\n",
    "x = BatchNormalization()(x)\n",
    "\n",
    "x = Conv2D(32, (3, 3), activation='relu', padding='same')(x)\n",
    "x = Dropout(0.25)(x)\n",
    "x = BatchNormalization()(x)\n",
    "\n",
    "\n",
    "encoded = MaxPooling2D((2, 2), padding='same')(x)\n",
    "\n",
    "x = Conv2D(32, (3, 3), activation='relu', padding='same')(encoded)\n",
    "x = UpSampling2D((2, 2))(x)\n",
    "x = Dropout(0.25)(x)\n",
    "x = BatchNormalization()(x)\n",
    "\n",
    "x = Conv2D(32, (3, 3), activation='relu', padding='same')(x)\n",
    "x = UpSampling2D((2, 2))(x)\n",
    "x = Dropout(0.25)(x)\n",
    "x = BatchNormalization()(x)\n",
    "\n",
    "decoded = Conv2D(1, (3, 3), activation='linear', padding='same')(x)\n",
    "\n",
    "autoencoder = Model(input_img, decoded)\n",
    "autoencoder.compile(optimizer='adadelta', loss='mean_squared_error')"
   ]
  },
  {
   "cell_type": "code",
   "execution_count": null,
   "metadata": {},
   "outputs": [],
   "source": []
  },
  {
   "cell_type": "code",
   "execution_count": 802,
   "metadata": {},
   "outputs": [
    {
     "name": "stdout",
     "output_type": "stream",
     "text": [
      "Train on 200 samples, validate on 100 samples\n",
      "Epoch 1/50\n",
      "200/200 [==============================] - 17s 84ms/step - loss: 708.5799 - val_loss: 77869.3784\n",
      "Epoch 2/50\n",
      "200/200 [==============================] - 15s 77ms/step - loss: 697.7956 - val_loss: 78140.3616\n",
      "Epoch 3/50\n",
      "200/200 [==============================] - 16s 78ms/step - loss: 723.0049 - val_loss: 69351.3412\n",
      "Epoch 4/50\n",
      "200/200 [==============================] - 15s 77ms/step - loss: 714.4778 - val_loss: 74284.5056\n",
      "Epoch 5/50\n",
      "200/200 [==============================] - 15s 77ms/step - loss: 660.7251 - val_loss: 72099.5813\n",
      "Epoch 6/50\n",
      "200/200 [==============================] - 15s 74ms/step - loss: 649.2465 - val_loss: 72118.1938\n",
      "Epoch 7/50\n",
      "200/200 [==============================] - 16s 78ms/step - loss: 654.2885 - val_loss: 73155.2388\n",
      "Epoch 8/50\n",
      "200/200 [==============================] - 17s 87ms/step - loss: 631.3270 - val_loss: 71528.1434\n",
      "Epoch 9/50\n",
      "200/200 [==============================] - 16s 79ms/step - loss: 625.8465 - val_loss: 71962.1731\n",
      "Epoch 10/50\n",
      "200/200 [==============================] - 16s 78ms/step - loss: 625.8264 - val_loss: 69228.5734\n",
      "Epoch 11/50\n",
      "200/200 [==============================] - 15s 77ms/step - loss: 641.8642 - val_loss: 72312.3178\n",
      "Epoch 12/50\n",
      "200/200 [==============================] - 15s 77ms/step - loss: 609.9619 - val_loss: 70591.1187\n",
      "Epoch 13/50\n",
      "200/200 [==============================] - 16s 80ms/step - loss: 603.4679 - val_loss: 71697.9738\n",
      "Epoch 14/50\n",
      "200/200 [==============================] - 16s 78ms/step - loss: 628.2429 - val_loss: 70321.2391\n",
      "Epoch 15/50\n",
      "200/200 [==============================] - 16s 78ms/step - loss: 623.7707 - val_loss: 67961.7431\n",
      "Epoch 16/50\n",
      "200/200 [==============================] - 16s 80ms/step - loss: 595.7585 - val_loss: 71464.7097\n",
      "Epoch 17/50\n",
      "200/200 [==============================] - 17s 87ms/step - loss: 591.2263 - val_loss: 70794.2994\n",
      "Epoch 18/50\n",
      "200/200 [==============================] - 16s 82ms/step - loss: 597.6329 - val_loss: 69308.5587\n",
      "Epoch 19/50\n",
      "200/200 [==============================] - 16s 79ms/step - loss: 581.3874 - val_loss: 69905.1212\n",
      "Epoch 20/50\n",
      "200/200 [==============================] - 16s 80ms/step - loss: 581.1741 - val_loss: 66086.3788\n",
      "Epoch 21/50\n",
      "200/200 [==============================] - 16s 79ms/step - loss: 588.8965 - val_loss: 72547.7637\n",
      "Epoch 22/50\n",
      "200/200 [==============================] - 16s 79ms/step - loss: 608.8493 - val_loss: 69237.7894\n",
      "Epoch 23/50\n",
      "200/200 [==============================] - 15s 76ms/step - loss: 572.6272 - val_loss: 66373.4362\n",
      "Epoch 24/50\n",
      "200/200 [==============================] - 16s 78ms/step - loss: 575.9786 - val_loss: 64501.8002\n",
      "Epoch 25/50\n",
      "200/200 [==============================] - 16s 78ms/step - loss: 577.8175 - val_loss: 64646.4995\n",
      "Epoch 26/50\n",
      "200/200 [==============================] - 16s 79ms/step - loss: 568.2942 - val_loss: 68793.0550\n",
      "Epoch 27/50\n",
      "200/200 [==============================] - 15s 76ms/step - loss: 569.3934 - val_loss: 66771.6578\n",
      "Epoch 28/50\n",
      "200/200 [==============================] - 16s 78ms/step - loss: 570.6409 - val_loss: 66209.9303\n",
      "Epoch 29/50\n",
      "200/200 [==============================] - 16s 78ms/step - loss: 560.3362 - val_loss: 67755.6362\n",
      "Epoch 30/50\n",
      "200/200 [==============================] - 16s 79ms/step - loss: 550.4902 - val_loss: 64904.9644\n",
      "Epoch 31/50\n",
      "200/200 [==============================] - 15s 77ms/step - loss: 543.7903 - val_loss: 63669.6428\n",
      "Epoch 32/50\n",
      "200/200 [==============================] - 19s 95ms/step - loss: 545.2246 - val_loss: 66683.2247\n",
      "Epoch 33/50\n",
      "200/200 [==============================] - 17s 87ms/step - loss: 560.6982 - val_loss: 68512.1950\n",
      "Epoch 34/50\n",
      "200/200 [==============================] - 16s 79ms/step - loss: 560.5802 - val_loss: 63377.7698\n",
      "Epoch 35/50\n",
      "200/200 [==============================] - 16s 81ms/step - loss: 535.7436 - val_loss: 63782.1345\n",
      "Epoch 36/50\n",
      "200/200 [==============================] - 16s 78ms/step - loss: 530.9981 - val_loss: 65950.3447\n",
      "Epoch 37/50\n",
      "200/200 [==============================] - 16s 79ms/step - loss: 548.4910 - val_loss: 66626.1647\n",
      "Epoch 38/50\n",
      "200/200 [==============================] - 16s 79ms/step - loss: 549.6097 - val_loss: 63333.8575\n",
      "Epoch 39/50\n",
      "200/200 [==============================] - 15s 77ms/step - loss: 528.4006 - val_loss: 63960.7445\n",
      "Epoch 40/50\n",
      "200/200 [==============================] - 18s 89ms/step - loss: 535.3557 - val_loss: 66673.7213\n",
      "Epoch 41/50\n",
      "200/200 [==============================] - 16s 79ms/step - loss: 537.2203 - val_loss: 67749.7153\n",
      "Epoch 42/50\n",
      "200/200 [==============================] - 16s 81ms/step - loss: 538.0848 - val_loss: 62673.9977\n",
      "Epoch 43/50\n",
      "200/200 [==============================] - 17s 83ms/step - loss: 536.8843 - val_loss: 66620.0044\n",
      "Epoch 44/50\n",
      "200/200 [==============================] - 16s 82ms/step - loss: 516.7790 - val_loss: 62375.1245\n",
      "Epoch 45/50\n",
      "200/200 [==============================] - 17s 84ms/step - loss: 535.0369 - val_loss: 63057.6078\n",
      "Epoch 46/50\n",
      "200/200 [==============================] - 17s 86ms/step - loss: 519.2965 - val_loss: 63325.3131\n",
      "Epoch 47/50\n",
      "200/200 [==============================] - 16s 82ms/step - loss: 517.8923 - val_loss: 65271.7381\n",
      "Epoch 48/50\n",
      "200/200 [==============================] - 16s 79ms/step - loss: 511.5314 - val_loss: 63135.0344\n",
      "Epoch 49/50\n",
      "200/200 [==============================] - 16s 81ms/step - loss: 503.4110 - val_loss: 65273.2352\n",
      "Epoch 50/50\n",
      "200/200 [==============================] - 15s 77ms/step - loss: 500.3513 - val_loss: 68307.9634\n"
     ]
    },
    {
     "data": {
      "text/plain": [
       "<keras.callbacks.History at 0xa85cef28>"
      ]
     },
     "execution_count": 802,
     "metadata": {},
     "output_type": "execute_result"
    }
   ],
   "source": [
    "from keras.callbacks import TensorBoard\n",
    "\n",
    "autoencoder.fit(X_train_noise, Y_train_noise,epochs=50,batch_size=64,shuffle=True,validation_data=(X_train_val, X_train_val),callbacks=[TensorBoard(log_dir='/tmp/autoencoder')])"
   ]
  },
  {
   "cell_type": "raw",
   "metadata": {},
   "source": [
    "Unfortunately, after several tentatives to adjust the parameters, the loss function continued to diverge.."
   ]
  }
 ],
 "metadata": {
  "kernelspec": {
   "display_name": "Python 3",
   "language": "python",
   "name": "python3"
  },
  "language_info": {
   "codemirror_mode": {
    "name": "ipython",
    "version": 3
   },
   "file_extension": ".py",
   "mimetype": "text/x-python",
   "name": "python",
   "nbconvert_exporter": "python",
   "pygments_lexer": "ipython3",
   "version": "3.6.7"
  }
 },
 "nbformat": 4,
 "nbformat_minor": 2
}
